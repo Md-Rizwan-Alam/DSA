{
 "cells": [
  {
   "cell_type": "raw",
   "id": "ddd659d6",
   "metadata": {},
   "source": [
    "Problem 1 :\n",
    "Intersection of Two Sorted Arrays\n",
    "Write a Python program to find the intersection of two sorted arrays.\n",
    "Input:\n",
    "A = [1, 3, 5, 7, 9]\n",
    "B = [2, 4, 5, 8]\n",
    "Output:\n",
    "Intersection: [5]"
   ]
  },
  {
   "cell_type": "code",
   "execution_count": 1,
   "id": "1be3d75b",
   "metadata": {},
   "outputs": [],
   "source": [
    "#Answer\n",
    "\n",
    "def intersection_of_sorted_arrays(A, B):\n",
    "    intersection = []\n",
    "    i = 0\n",
    "    j = 0\n",
    "    \n",
    "    while i < len(A) and j < len(B):\n",
    "        if A[i] == B[j]:\n",
    "            intersection.append(A[i])\n",
    "            i += 1\n",
    "            j += 1\n",
    "        elif A[i] < B[j]:\n",
    "            i += 1\n",
    "        else:\n",
    "            j += 1\n",
    "            \n",
    "    return intersection\n"
   ]
  },
  {
   "cell_type": "code",
   "execution_count": 2,
   "id": "2929e170",
   "metadata": {},
   "outputs": [],
   "source": [
    "# Example:\n",
    "A = [1, 3, 5, 7, 9]\n",
    "B = [2, 4, 5, 8]"
   ]
  },
  {
   "cell_type": "code",
   "execution_count": 3,
   "id": "337403fe",
   "metadata": {},
   "outputs": [
    {
     "name": "stdout",
     "output_type": "stream",
     "text": [
      "Intersection: [5]\n"
     ]
    }
   ],
   "source": [
    "print(\"Intersection:\", intersection_of_sorted_arrays(A, B))"
   ]
  },
  {
   "cell_type": "code",
   "execution_count": null,
   "id": "d6016748",
   "metadata": {},
   "outputs": [],
   "source": []
  },
  {
   "cell_type": "code",
   "execution_count": null,
   "id": "69f245f7",
   "metadata": {},
   "outputs": [],
   "source": []
  },
  {
   "cell_type": "raw",
   "id": "9b05407d",
   "metadata": {},
   "source": [
    "Problem 2 :\n",
    "Find the Kth Smallest Element\n",
    "Write a Python function to find the kth smallest element in an unsorted list.\n",
    "Input:\n",
    "[12, 3, 1, 7, 8, 20], k = 3\n",
    "Output:\n",
    "The 3rd smallest element is 7"
   ]
  },
  {
   "cell_type": "code",
   "execution_count": 4,
   "id": "d67c7b91",
   "metadata": {},
   "outputs": [],
   "source": [
    "#Answer\n",
    "\n",
    "import random\n",
    "\n",
    "def partition(arr, low, high):\n",
    "    pivot_index = random.randint(low, high)\n",
    "    pivot = arr[pivot_index]\n",
    "    arr[pivot_index], arr[high] = arr[high], arr[pivot_index]\n",
    "    i = low\n",
    "    for j in range(low, high):\n",
    "        if arr[j] < pivot:\n",
    "            arr[i], arr[j] = arr[j], arr[i]\n",
    "            i += 1\n",
    "    arr[i], arr[high] = arr[high], arr[i]\n",
    "    return i\n",
    "\n",
    "def kth_smallest(arr, k):\n",
    "    low = 0\n",
    "    high = len(arr) - 1\n",
    "    while low <= high:\n",
    "        pivot_index = partition(arr, low, high)\n",
    "        if pivot_index == k - 1:\n",
    "            return arr[pivot_index]\n",
    "        elif pivot_index < k - 1:\n",
    "            low = pivot_index + 1\n",
    "        else:\n",
    "            high = pivot_index - 1\n",
    "    return None\n",
    "\n"
   ]
  },
  {
   "cell_type": "code",
   "execution_count": 5,
   "id": "a9674432",
   "metadata": {},
   "outputs": [
    {
     "name": "stdout",
     "output_type": "stream",
     "text": [
      "The 3rd smallest element is 7\n"
     ]
    }
   ],
   "source": [
    "# Example usage:\n",
    "arr = [12, 3, 1, 7, 8, 20]\n",
    "k = 3\n",
    "result = kth_smallest(arr, k)\n",
    "if result is not None:\n",
    "    print(f\"The {k}rd smallest element is {result}\")\n",
    "else:\n",
    "    print(\"Invalid input or k is out of range.\")"
   ]
  },
  {
   "cell_type": "code",
   "execution_count": null,
   "id": "0922138c",
   "metadata": {},
   "outputs": [],
   "source": []
  },
  {
   "cell_type": "code",
   "execution_count": null,
   "id": "bb85747a",
   "metadata": {},
   "outputs": [],
   "source": []
  },
  {
   "cell_type": "raw",
   "id": "e9391897",
   "metadata": {},
   "source": [
    "Problem 3 :\n",
    "Binary Search in a Rotated Sorted Array\n",
    "Implement a Python program to perform a binary search on a rotated sorted array.\n",
    "Input:\n",
    "[4, 5, 6, 7, 8, 9, 1, 2, 3], 6\n",
    "Output:\n",
    "Element 6 found at index 2"
   ]
  },
  {
   "cell_type": "code",
   "execution_count": 6,
   "id": "08d15016",
   "metadata": {},
   "outputs": [],
   "source": [
    "#Answer\n",
    "\n",
    "def search_rotated_array(arr, target):\n",
    "    left = 0\n",
    "    right = len(arr) - 1\n",
    "    \n",
    "    while left <= right:\n",
    "        mid = (left + right) // 2\n",
    "        \n",
    "        if arr[mid] == target:\n",
    "            return mid\n",
    "        \n",
    "        # If left half is sorted\n",
    "        if arr[left] <= arr[mid]:\n",
    "            # Check if target is within the left sorted half\n",
    "            if arr[left] <= target < arr[mid]:\n",
    "                right = mid - 1\n",
    "            else:\n",
    "                left = mid + 1\n",
    "        # If right half is sorted\n",
    "        else:\n",
    "            # Check if target is within the right sorted half\n",
    "            if arr[mid] < target <= arr[right]:\n",
    "                left = mid + 1\n",
    "            else:\n",
    "                right = mid - 1\n",
    "                \n",
    "    return -1\n"
   ]
  },
  {
   "cell_type": "code",
   "execution_count": 7,
   "id": "42295f69",
   "metadata": {},
   "outputs": [
    {
     "name": "stdout",
     "output_type": "stream",
     "text": [
      "Element 6 found at index 2\n"
     ]
    }
   ],
   "source": [
    "# Example:\n",
    "\n",
    "\n",
    "arr = [4, 5, 6, 7, 8, 9, 1, 2, 3]\n",
    "target = 6\n",
    "index = search_rotated_array(arr, target)\n",
    "if index != -1:\n",
    "    print(f\"Element {target} found at index {index}\")\n",
    "else:\n",
    "    print(f\"Element {target} not found in the array.\")"
   ]
  },
  {
   "cell_type": "code",
   "execution_count": null,
   "id": "49ddca25",
   "metadata": {},
   "outputs": [],
   "source": []
  },
  {
   "cell_type": "code",
   "execution_count": null,
   "id": "abf6a83d",
   "metadata": {},
   "outputs": [],
   "source": []
  },
  {
   "cell_type": "raw",
   "id": "513577b0",
   "metadata": {},
   "source": [
    "Problem 4 :\n",
    "Searching in a Matrix\n",
    "Write a Python program that searches for a given element in a 2D matrix and returns its position.\n",
    "Input:\n",
    "Matrix = [\n",
    "[1, 3, 5],\n",
    "[7, 9, 11],\n",
    "[13, 15, 17]\n",
    "]\n",
    "Element = 11"
   ]
  },
  {
   "cell_type": "code",
   "execution_count": 8,
   "id": "7121577f",
   "metadata": {},
   "outputs": [],
   "source": [
    "#Answer\n",
    "\n",
    "def search_in_matrix(matrix, target):\n",
    "    if not matrix or not matrix[0]:\n",
    "        return None\n",
    "    \n",
    "    rows = len(matrix)\n",
    "    cols = len(matrix[0])\n",
    "    \n",
    "    # Start from the top-right corner\n",
    "    row = 0\n",
    "    col = cols - 1\n",
    "    \n",
    "    while row < rows and col >= 0:\n",
    "        if matrix[row][col] == target:\n",
    "            return (row, col)\n",
    "        elif matrix[row][col] < target:\n",
    "            row += 1\n",
    "        else:\n",
    "            col -= 1\n",
    "    \n",
    "    return None\n",
    "\n",
    "\n"
   ]
  },
  {
   "cell_type": "code",
   "execution_count": 9,
   "id": "4b279d16",
   "metadata": {},
   "outputs": [
    {
     "name": "stdout",
     "output_type": "stream",
     "text": [
      "Element 11 found at position (1, 2)\n"
     ]
    }
   ],
   "source": [
    "# Example:\n",
    "\n",
    "\n",
    "Matrix = [\n",
    "    [1, 3, 5],\n",
    "    [7, 9, 11],\n",
    "    [13, 15, 17]\n",
    "]\n",
    "Element = 11\n",
    "position = search_in_matrix(Matrix, Element)\n",
    "if position:\n",
    "    print(f\"Element {Element} found at position {position}\")\n",
    "else:\n",
    "    print(f\"Element {Element} not found in the matrix.\")"
   ]
  },
  {
   "cell_type": "code",
   "execution_count": null,
   "id": "4d7e986b",
   "metadata": {},
   "outputs": [],
   "source": []
  },
  {
   "cell_type": "code",
   "execution_count": null,
   "id": "647b4985",
   "metadata": {},
   "outputs": [],
   "source": []
  },
  {
   "cell_type": "raw",
   "id": "e9846838",
   "metadata": {},
   "source": [
    "Problem 5 :\n",
    "Sorting Strings by Length\n",
    "Write a Python program that takes a list of strings and sorts them based on their length.\n",
    "Input:\n",
    "['apple', 'banana', 'kiwi', 'orange', 'grape']\n",
    "Output:\n",
    "['kiwi', 'grape', 'apple', 'banana', 'orange']"
   ]
  },
  {
   "cell_type": "code",
   "execution_count": 10,
   "id": "8b88a8e5",
   "metadata": {},
   "outputs": [],
   "source": [
    "#Answer\n",
    "\n",
    "def sort_strings_by_length(strings):\n",
    "    return sorted(strings, key=len)\n"
   ]
  },
  {
   "cell_type": "code",
   "execution_count": 11,
   "id": "49e390c8",
   "metadata": {},
   "outputs": [],
   "source": [
    "# Example:\n",
    "\n",
    "\n",
    "input_strings = ['apple', 'banana', 'kiwi', 'orange', 'grape']\n",
    "sorted_strings = sort_strings_by_length(input_strings)"
   ]
  },
  {
   "cell_type": "code",
   "execution_count": 12,
   "id": "75e46caa",
   "metadata": {},
   "outputs": [
    {
     "name": "stdout",
     "output_type": "stream",
     "text": [
      "Sorted strings: ['kiwi', 'apple', 'grape', 'banana', 'orange']\n"
     ]
    }
   ],
   "source": [
    "print(\"Sorted strings:\", sorted_strings)"
   ]
  },
  {
   "cell_type": "code",
   "execution_count": null,
   "id": "a34bcbcd",
   "metadata": {},
   "outputs": [],
   "source": []
  },
  {
   "cell_type": "code",
   "execution_count": null,
   "id": "2e4fa56e",
   "metadata": {},
   "outputs": [],
   "source": []
  },
  {
   "cell_type": "code",
   "execution_count": null,
   "id": "f13aa7b9",
   "metadata": {},
   "outputs": [],
   "source": [
    "Problem 6 :\n",
    "Implementing the merge sort ( Will be discussed in the class )"
   ]
  },
  {
   "cell_type": "code",
   "execution_count": 13,
   "id": "fecff409",
   "metadata": {},
   "outputs": [],
   "source": [
    "#Answer\n",
    "\n",
    "def merge_sort(arr):\n",
    "    if len(arr) <= 1:\n",
    "        return arr\n",
    "    \n",
    "    mid = len(arr) // 2\n",
    "    left_half = arr[:mid]\n",
    "    right_half = arr[mid:]\n",
    "    \n",
    "    left_half = merge_sort(left_half)\n",
    "    right_half = merge_sort(right_half)\n",
    "    \n",
    "    return merge(left_half, right_half)\n",
    "\n",
    "def merge(left, right):\n",
    "    merged = []\n",
    "    left_index = right_index = 0\n",
    "    \n",
    "    while left_index < len(left) and right_index < len(right):\n",
    "        if left[left_index] < right[right_index]:\n",
    "            merged.append(left[left_index])\n",
    "            left_index += 1\n",
    "        else:\n",
    "            merged.append(right[right_index])\n",
    "            right_index += 1\n",
    "    \n",
    "    merged.extend(left[left_index:])\n",
    "    merged.extend(right[right_index:])\n",
    "    \n",
    "    return merged\n"
   ]
  },
  {
   "cell_type": "code",
   "execution_count": 14,
   "id": "c4ac1849",
   "metadata": {},
   "outputs": [],
   "source": [
    "# Example:\n",
    "\n",
    "arr = [12, 3, 1, 7, 8, 20]\n",
    "sorted_arr = merge_sort(arr)"
   ]
  },
  {
   "cell_type": "code",
   "execution_count": 15,
   "id": "4ac30f19",
   "metadata": {},
   "outputs": [
    {
     "name": "stdout",
     "output_type": "stream",
     "text": [
      "Sorted array: [1, 3, 7, 8, 12, 20]\n"
     ]
    }
   ],
   "source": [
    "print(\"Sorted array:\", sorted_arr)"
   ]
  },
  {
   "cell_type": "code",
   "execution_count": null,
   "id": "93059b85",
   "metadata": {},
   "outputs": [],
   "source": []
  },
  {
   "cell_type": "code",
   "execution_count": null,
   "id": "5548cbcd",
   "metadata": {},
   "outputs": [],
   "source": []
  },
  {
   "cell_type": "raw",
   "id": "ee49a808",
   "metadata": {},
   "source": [
    "Problem 7 :\n",
    "Implementing the quick sort ( will be discussed in the class )"
   ]
  },
  {
   "cell_type": "code",
   "execution_count": 16,
   "id": "8c38432f",
   "metadata": {},
   "outputs": [],
   "source": [
    "#Answer\n",
    "\n",
    "def quick_sort(arr):\n",
    "    if len(arr) <= 1:\n",
    "        return arr\n",
    "    \n",
    "    pivot = arr[len(arr) // 2]\n",
    "    left = [x for x in arr if x < pivot]\n",
    "    middle = [x for x in arr if x == pivot]\n",
    "    right = [x for x in arr if x > pivot]\n",
    "    \n",
    "    return quick_sort(left) + middle + quick_sort(right)\n"
   ]
  },
  {
   "cell_type": "code",
   "execution_count": 17,
   "id": "286266b4",
   "metadata": {},
   "outputs": [],
   "source": [
    "# Example:\n",
    "\n",
    "arr = [12, 3, 1, 7, 8, 20]\n",
    "sorted_arr = quick_sort(arr)"
   ]
  },
  {
   "cell_type": "code",
   "execution_count": 18,
   "id": "b89ef53f",
   "metadata": {},
   "outputs": [
    {
     "name": "stdout",
     "output_type": "stream",
     "text": [
      "Sorted array: [1, 3, 7, 8, 12, 20]\n"
     ]
    }
   ],
   "source": [
    "print(\"Sorted array:\", sorted_arr)"
   ]
  },
  {
   "cell_type": "code",
   "execution_count": null,
   "id": "fdfe7b3e",
   "metadata": {},
   "outputs": [],
   "source": []
  },
  {
   "cell_type": "code",
   "execution_count": null,
   "id": "2b1ca010",
   "metadata": {},
   "outputs": [],
   "source": []
  },
  {
   "cell_type": "raw",
   "id": "ce9a1fd3",
   "metadata": {},
   "source": [
    "Problem 8 :\n",
    "Implementing the count sort ( will be discussed in the class )"
   ]
  },
  {
   "cell_type": "code",
   "execution_count": 19,
   "id": "66d596f6",
   "metadata": {},
   "outputs": [],
   "source": [
    "#Answer\n",
    "\n",
    "\n",
    "def count_sort(arr):\n",
    "    max_element = max(arr)\n",
    "    min_element = min(arr)\n",
    "    range_of_elements = max_element - min_element + 1\n",
    "\n",
    "    count = [0] * range_of_elements\n",
    "\n",
    "    for num in arr:\n",
    "        count[num - min_element] += 1\n",
    "\n",
    "    for i in range(1, len(count)):\n",
    "        count[i] += count[i - 1]\n",
    "\n",
    "    output = [0] * len(arr)\n",
    "\n",
    "    for num in reversed(arr):\n",
    "        output[count[num - min_element] - 1] = num\n",
    "        count[num - min_element] -= 1\n",
    "\n",
    "    return output\n"
   ]
  },
  {
   "cell_type": "code",
   "execution_count": 20,
   "id": "c01f9e59",
   "metadata": {},
   "outputs": [],
   "source": [
    "# Example:\n",
    "\n",
    "arr = [4, 2, 2, 8, 3, 3, 1]\n",
    "sorted_arr = count_sort(arr)"
   ]
  },
  {
   "cell_type": "code",
   "execution_count": 21,
   "id": "cb8ddc0a",
   "metadata": {},
   "outputs": [
    {
     "name": "stdout",
     "output_type": "stream",
     "text": [
      "Sorted array: [1, 2, 2, 3, 3, 4, 8]\n"
     ]
    }
   ],
   "source": [
    "print(\"Sorted array:\", sorted_arr)"
   ]
  },
  {
   "cell_type": "code",
   "execution_count": null,
   "id": "c7cb4ccb",
   "metadata": {},
   "outputs": [],
   "source": []
  },
  {
   "cell_type": "code",
   "execution_count": null,
   "id": "f78bfd66",
   "metadata": {},
   "outputs": [],
   "source": []
  },
  {
   "cell_type": "code",
   "execution_count": null,
   "id": "8474c1d2",
   "metadata": {},
   "outputs": [],
   "source": [
    "Problem 9 :\n",
    "Implement a Python function to find a peak element in an array. A peak element is an element that is greater\n",
    "than or equal to its neighbors.\n",
    "Input:\n",
    "[1, 3, 20, 4, 1, 0]\n",
    "Output:\n",
    "Peak element is 20"
   ]
  },
  {
   "cell_type": "code",
   "execution_count": 23,
   "id": "5813ace9",
   "metadata": {},
   "outputs": [],
   "source": [
    "#Answer\n",
    "\n",
    "def find_peak(arr):\n",
    "    left = 0\n",
    "    right = len(arr) - 1\n",
    "    \n",
    "    while left < right:\n",
    "        mid = (left + right) // 2\n",
    "        \n",
    "        if arr[mid] > arr[mid - 1] and arr[mid] > arr[mid + 1]:\n",
    "            return arr[mid]\n",
    "        elif arr[mid] < arr[mid + 1]:\n",
    "            left = mid + 1\n",
    "        else:\n",
    "            right = mid - 1\n",
    "    \n",
    "    return arr[left]\n",
    "\n",
    "\n"
   ]
  },
  {
   "cell_type": "code",
   "execution_count": 24,
   "id": "0e456e25",
   "metadata": {},
   "outputs": [],
   "source": [
    "# Example:\n",
    "\n",
    "arr = [1, 3, 20, 4, 1, 0]\n",
    "peak = find_peak(arr)"
   ]
  },
  {
   "cell_type": "code",
   "execution_count": 25,
   "id": "0e8f05f7",
   "metadata": {},
   "outputs": [
    {
     "name": "stdout",
     "output_type": "stream",
     "text": [
      "Peak element is 20\n"
     ]
    }
   ],
   "source": [
    "print(\"Peak element is\", peak)"
   ]
  },
  {
   "cell_type": "code",
   "execution_count": null,
   "id": "1eba47da",
   "metadata": {},
   "outputs": [],
   "source": []
  },
  {
   "cell_type": "code",
   "execution_count": null,
   "id": "1531bf8c",
   "metadata": {},
   "outputs": [],
   "source": []
  },
  {
   "cell_type": "raw",
   "id": "64fb215e",
   "metadata": {},
   "source": [
    "Problem 10 :\n",
    "Search in a Nearly Sorted Array\n",
    "Implement a Python program to perform a binary search in a nearly sorted array. In a nearly sorted array, each\n",
    "element is at most k positions away from its sorted position.\n",
    "Input:\n",
    "[2, 1, 3, 4, 6, 5, 7], k = 1\n",
    "Output:\n",
    "Element 5 found at index 4"
   ]
  },
  {
   "cell_type": "code",
   "execution_count": 26,
   "id": "8863622a",
   "metadata": {},
   "outputs": [],
   "source": [
    "#Answer\n",
    "\n",
    "def search_nearly_sorted_array(arr, target, k):\n",
    "    left = 0\n",
    "    right = len(arr) - 1\n",
    "    \n",
    "    while left <= right:\n",
    "        mid = (left + right) // 2\n",
    "        \n",
    "        if arr[mid] == target:\n",
    "            return mid\n",
    "        \n",
    "        start = max(0, mid - k)\n",
    "        end = min(len(arr) - 1, mid + k)\n",
    "        \n",
    "        for i in range(start, end + 1):\n",
    "            if arr[i] == target:\n",
    "                return i\n",
    "        \n",
    "        if target < arr[mid]:\n",
    "            right = mid - 1\n",
    "        else:\n",
    "            left = mid + 1\n",
    "    \n",
    "    return -1\n",
    "\n"
   ]
  },
  {
   "cell_type": "code",
   "execution_count": 27,
   "id": "a15b7856",
   "metadata": {},
   "outputs": [
    {
     "name": "stdout",
     "output_type": "stream",
     "text": [
      "Element 5 found at index 5\n"
     ]
    }
   ],
   "source": [
    "# Example:\n",
    "\n",
    "arr = [2, 1, 3, 4, 6, 5, 7]\n",
    "target = 5\n",
    "k = 1\n",
    "index = search_nearly_sorted_array(arr, target, k)\n",
    "if index != -1:\n",
    "    print(f\"Element {target} found at index {index}\")\n",
    "else:\n",
    "    print(f\"Element {target} not found in the array.\")"
   ]
  },
  {
   "cell_type": "code",
   "execution_count": null,
   "id": "051ce3bf",
   "metadata": {},
   "outputs": [],
   "source": []
  },
  {
   "cell_type": "code",
   "execution_count": null,
   "id": "9d7ddea7",
   "metadata": {},
   "outputs": [],
   "source": []
  }
 ],
 "metadata": {
  "kernelspec": {
   "display_name": "Python 3 (ipykernel)",
   "language": "python",
   "name": "python3"
  },
  "language_info": {
   "codemirror_mode": {
    "name": "ipython",
    "version": 3
   },
   "file_extension": ".py",
   "mimetype": "text/x-python",
   "name": "python",
   "nbconvert_exporter": "python",
   "pygments_lexer": "ipython3",
   "version": "3.11.5"
  }
 },
 "nbformat": 4,
 "nbformat_minor": 5
}
