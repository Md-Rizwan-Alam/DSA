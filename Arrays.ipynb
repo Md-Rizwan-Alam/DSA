{
 "cells": [
  {
   "cell_type": "raw",
   "id": "df786c1d-e0a1-4e7f-b9ab-d0775d31ee0e",
   "metadata": {},
   "source": [
    "1. Given an array, check if it contains any duplicates or not.\n",
    "arr = [1, 2, 4, 2, 5, 9]\n",
    "Output = True"
   ]
  },
  {
   "cell_type": "code",
   "execution_count": 10,
   "id": "d27da7a6-430a-4dc6-b66d-534f77cf3915",
   "metadata": {},
   "outputs": [
    {
     "name": "stdout",
     "output_type": "stream",
     "text": [
      "True\n"
     ]
    }
   ],
   "source": [
    "def contains_duplicates(arr):\n",
    "    seen = set()  # Create an empty set to store unique elements\n",
    "\n",
    "    for item in arr:\n",
    "        if item in seen:\n",
    "            return True  # Found a duplicate\n",
    "        seen.add(item)  # Add the element to the set\n",
    "\n",
    "    return False  # No duplicates found\n",
    "\n",
    "arr = [1, 2, 4, 2, 5, 9]\n",
    "output = contains_duplicates(arr)\n",
    "print(output)  \n"
   ]
  },
  {
   "cell_type": "code",
   "execution_count": null,
   "id": "4038e556-23b6-49e5-9227-9d49b537e9fe",
   "metadata": {},
   "outputs": [],
   "source": []
  },
  {
   "cell_type": "raw",
   "id": "6e5121ba-b267-4769-bf96-6a40ed7ddd27",
   "metadata": {},
   "source": [
    "2. Given an array and an integer k, rotate the array to the right by k steps.\n",
    "arr = [1, 2, 3, 4, 5, 6, 7] k = 3\n",
    "Output = [5, 6, 7, 1, 2, 3, 4]"
   ]
  },
  {
   "cell_type": "code",
   "execution_count": 11,
   "id": "e7232c70-f8ee-40ce-866b-89572c90526c",
   "metadata": {},
   "outputs": [
    {
     "name": "stdout",
     "output_type": "stream",
     "text": [
      "[5, 6, 7, 1, 2, 3, 4]\n"
     ]
    }
   ],
   "source": [
    "def rotate_array(nums, k):\n",
    "    # Calculate the effective rotation, which is k modulo the array length\n",
    "    k %= len(nums)\n",
    "    \n",
    "    # Reverse the entire array\n",
    "    reverse(nums, 0, len(nums) - 1)\n",
    "    \n",
    "    # Reverse the first k elements\n",
    "    reverse(nums, 0, k - 1)\n",
    "    \n",
    "    # Reverse the remaining elements\n",
    "    reverse(nums, k, len(nums) - 1)\n",
    "\n",
    "def reverse(nums, start, end):\n",
    "    while start < end:\n",
    "        nums[start], nums[end] = nums[end], nums[start]\n",
    "        start += 1\n",
    "        end -= 1\n",
    "\n",
    "arr = [1, 2, 3, 4, 5, 6, 7]\n",
    "k = 3\n",
    "rotate_array(arr, k)\n",
    "print(arr)  "
   ]
  },
  {
   "cell_type": "code",
   "execution_count": null,
   "id": "ddba77d6-17e0-4d9e-a2b0-ce343c440c53",
   "metadata": {},
   "outputs": [],
   "source": []
  },
  {
   "cell_type": "raw",
   "id": "a90974e4-d8e1-4895-9bf1-9a658e3a14a8",
   "metadata": {},
   "source": [
    "3. Reverse the given array in-place, means without using any extra data structure.\n",
    "arr = [2, 4, 5, 7, 9, 12]\n",
    "Output = [12, 9, 7, 5, 4, 2]"
   ]
  },
  {
   "cell_type": "code",
   "execution_count": 12,
   "id": "c2cf460d-db5b-4dbf-8f67-e89e1157618f",
   "metadata": {},
   "outputs": [
    {
     "name": "stdout",
     "output_type": "stream",
     "text": [
      "[12, 9, 7, 5, 4, 2]\n"
     ]
    }
   ],
   "source": [
    "def reverse_array_in_place(arr):\n",
    "    start = 0\n",
    "    end = len(arr) - 1\n",
    "\n",
    "    while start < end:\n",
    "        # Swap the elements at the start and end positions\n",
    "        arr[start], arr[end] = arr[end], arr[start]\n",
    "        start += 1\n",
    "        end -= 1\n",
    "\n",
    "arr = [2, 4, 5, 7, 9, 12]\n",
    "reverse_array_in_place(arr)\n",
    "print(arr)  \n"
   ]
  },
  {
   "cell_type": "code",
   "execution_count": null,
   "id": "2f4a7bc6-aa2e-4a44-b293-2aef3eb38d4d",
   "metadata": {},
   "outputs": [],
   "source": []
  },
  {
   "cell_type": "raw",
   "id": "9de3d401-9785-430a-ac76-13b04c8a128b",
   "metadata": {},
   "source": [
    "4. Given an array of integers, find the maximum element in an array\n",
    "arr = [10, 5, 20, 8, 15]\n",
    "Output = 20"
   ]
  },
  {
   "cell_type": "code",
   "execution_count": 13,
   "id": "c1cd9390-1bbc-4fcb-9809-94132d13498f",
   "metadata": {},
   "outputs": [
    {
     "name": "stdout",
     "output_type": "stream",
     "text": [
      "20\n"
     ]
    }
   ],
   "source": [
    "def find_maximum_element(arr):\n",
    "    if not arr:\n",
    "        return None  # Return None for an empty array\n",
    "\n",
    "    max_element = arr[0]  # Initialize max_element with the first element\n",
    "\n",
    "    for element in arr:\n",
    "        if element > max_element:\n",
    "            max_element = element  # Update max_element if a larger element is found\n",
    "\n",
    "    return max_element\n",
    "\n",
    "arr = [10, 5, 20, 8, 15]\n",
    "max_value = find_maximum_element(arr)\n",
    "print(max_value)  \n"
   ]
  },
  {
   "cell_type": "code",
   "execution_count": null,
   "id": "a83e2756-616e-4df3-ac6d-278b90a2bf9e",
   "metadata": {},
   "outputs": [],
   "source": []
  },
  {
   "cell_type": "raw",
   "id": "8c95d718-b271-4084-9737-7cc406efe7b9",
   "metadata": {},
   "source": [
    "5. Given a sorted array, remove the duplicate element without using any extra data structure.\n",
    "arr = [1, 1, 2, 2, 2, 3, 3, 4, 4, 4, 5, 5]\n",
    "Output = [1, 2, 3, 4, 5]"
   ]
  },
  {
   "cell_type": "code",
   "execution_count": null,
   "id": "669817e8-b97b-4303-b644-4841cf4504e5",
   "metadata": {},
   "outputs": [],
   "source": [
    "def remove_duplicates_in_place(arr):\n",
    "    if not arr:\n",
    "        return 0  # Return 0 for an empty array\n",
    "\n",
    "    # Initialize the index to 1, as the first element is not a duplicate of itself\n",
    "    index = 1\n",
    "\n",
    "    for i in range(1, len(arr)):\n",
    "        if arr[i] != arr[i - 1]:\n",
    "            arr[index] = arr[i]\n",
    "            index += 1\n",
    "\n",
    "    return index\n",
    "\n",
    "# Example usage\n",
    "arr = [1, 1, 2, 2, 2, 3, 3, 4, 4, 4, 5, 5]\n",
    "new_length = remove_duplicates_in_place(arr)\n",
    "unique_elements = arr[:new_length]\n",
    "print(unique_elements)  # Output will be [1, 2, 3, 4, 5]\n"
   ]
  },
  {
   "cell_type": "code",
   "execution_count": null,
   "id": "fb051750-c9f8-40fd-915f-02f245736e27",
   "metadata": {},
   "outputs": [],
   "source": []
  }
 ],
 "metadata": {
  "kernelspec": {
   "display_name": "Python 3 (ipykernel)",
   "language": "python",
   "name": "python3"
  },
  "language_info": {
   "codemirror_mode": {
    "name": "ipython",
    "version": 3
   },
   "file_extension": ".py",
   "mimetype": "text/x-python",
   "name": "python",
   "nbconvert_exporter": "python",
   "pygments_lexer": "ipython3",
   "version": "3.10.8"
  }
 },
 "nbformat": 4,
 "nbformat_minor": 5
}
