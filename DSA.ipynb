{
 "cells": [
  {
   "cell_type": "markdown",
   "id": "50f625dd-78ea-4569-aa3b-512c3da2431d",
   "metadata": {},
   "source": [
    "Problem 1: Reverse a singly linked list.\n",
    "\n",
    "Input: 1 -> 2 -> 3 -> 4 -> 5\n",
    "Output: 5 -> 4 -> 3 -> 2 -> 1"
   ]
  },
  {
   "cell_type": "code",
   "execution_count": 13,
   "id": "29cdb9eb-82e3-4dcd-a561-b001d80c49a7",
   "metadata": {},
   "outputs": [],
   "source": [
    "class ListNode:\n",
    "    def __init__(self, value=0, next=None):\n",
    "        self.value = value\n",
    "        self.next = next\n",
    "\n",
    "def reverse_linked_list(head):\n",
    "    prev = None\n",
    "    current = head\n",
    "\n",
    "    while current is not None:\n",
    "        next_node = current.next\n",
    "        current.next = prev\n",
    "        prev = current\n",
    "        current = next_node\n",
    "\n",
    "    return prev\n",
    "\n",
    "def print_linked_list(head):\n",
    "    current = head\n",
    "    while current is not None:\n",
    "        print(current.value, end=\" -> \")\n",
    "        current = current.next\n",
    "    print(\"None\")"
   ]
  },
  {
   "cell_type": "code",
   "execution_count": 14,
   "id": "ee9ea7dd-81f9-4a94-a021-ed6c2d4c9305",
   "metadata": {},
   "outputs": [],
   "source": [
    "# Example:\n",
    "head = ListNode(1, ListNode(2, ListNode(3, ListNode(4, ListNode(5))))) "
   ]
  },
  {
   "cell_type": "code",
   "execution_count": 15,
   "id": "1d8db7d5-57a9-453f-a491-9f9e84fd1973",
   "metadata": {},
   "outputs": [
    {
     "name": "stdout",
     "output_type": "stream",
     "text": [
      "Original linked list:\n",
      "1 -> 2 -> 3 -> 4 -> 5 -> None\n",
      "\n",
      "Reversed linked list:\n",
      "5 -> 4 -> 3 -> 2 -> 1 -> None\n"
     ]
    }
   ],
   "source": [
    "print(\"Original linked list:\")\n",
    "print_linked_list(head)\n",
    "\n",
    "reversed_head = reverse_linked_list(head)\n",
    "\n",
    "print(\"\\nReversed linked list:\")\n",
    "print_linked_list(reversed_head)"
   ]
  },
  {
   "cell_type": "code",
   "execution_count": null,
   "id": "5e7f7f78-60ff-49b6-98a3-5dead0610ea0",
   "metadata": {},
   "outputs": [],
   "source": []
  },
  {
   "cell_type": "code",
   "execution_count": null,
   "id": "32f0c5f6-de2a-40c0-83bb-5064b1e98fcd",
   "metadata": {},
   "outputs": [],
   "source": []
  },
  {
   "cell_type": "markdown",
   "id": "ba54e34b-c550-4d5f-bbbe-7bff3decb07b",
   "metadata": {},
   "source": [
    "Problem 2: Merge two sorted linked lists into one sorted linked list.\n",
    "\n",
    "Input: List 1: 1 -> 3 -> 5, List 2: 2 -> 4 -> 6\n",
    "Output: 1 -> 2 -> 3 -> 4 -> 5 -> 6"
   ]
  },
  {
   "cell_type": "code",
   "execution_count": 16,
   "id": "758dd1d6-4282-4540-963a-abf5a709cf95",
   "metadata": {},
   "outputs": [],
   "source": [
    "class ListNode:\n",
    "    def __init__(self, value=0, next=None):\n",
    "        self.value = value\n",
    "        self.next = next\n",
    "\n",
    "def merge_sorted_lists(list1, list2):\n",
    "    dummy = ListNode()\n",
    "    current = dummy\n",
    "\n",
    "    while list1 is not None and list2 is not None:\n",
    "        if list1.value < list2.value:\n",
    "            current.next = list1\n",
    "            list1 = list1.next\n",
    "        else:\n",
    "            current.next = list2\n",
    "            list2 = list2.next\n",
    "        current = current.next\n",
    "\n",
    "    \n",
    "    if list1 is not None:\n",
    "        current.next = list1\n",
    "    elif list2 is not None:\n",
    "        current.next = list2\n",
    "\n",
    "    return dummy.next\n",
    "\n",
    "def print_linked_list(head):\n",
    "    current = head\n",
    "    while current is not None:\n",
    "        print(current.value, end=\" -> \")\n",
    "        current = current.next\n",
    "    print(\"None\")\n"
   ]
  },
  {
   "cell_type": "code",
   "execution_count": 17,
   "id": "0e65d7e6-7bca-403f-a6f9-669eb77596db",
   "metadata": {},
   "outputs": [],
   "source": [
    "\n",
    "# Example:\n",
    "list1 = ListNode(1, ListNode(3, ListNode(5)))\n",
    "list2 = ListNode(2, ListNode(4, ListNode(6)))"
   ]
  },
  {
   "cell_type": "code",
   "execution_count": 18,
   "id": "8c76df1e-d5c8-45b4-80ae-8d8a1d74ebb2",
   "metadata": {},
   "outputs": [
    {
     "name": "stdout",
     "output_type": "stream",
     "text": [
      "List 1:\n",
      "1 -> 3 -> 5 -> None\n",
      "\n",
      "List 2:\n",
      "2 -> 4 -> 6 -> None\n",
      "\n",
      "Merged sorted list:\n",
      "1 -> 2 -> 3 -> 4 -> 5 -> 6 -> None\n"
     ]
    }
   ],
   "source": [
    "print(\"List 1:\")\n",
    "print_linked_list(list1)\n",
    "print(\"\\nList 2:\")\n",
    "print_linked_list(list2)\n",
    "\n",
    "merged_head = merge_sorted_lists(list1, list2)\n",
    "\n",
    "print(\"\\nMerged sorted list:\")\n",
    "print_linked_list(merged_head)"
   ]
  },
  {
   "cell_type": "code",
   "execution_count": null,
   "id": "2f38ca21-fea3-4697-9f02-91a5091e188a",
   "metadata": {},
   "outputs": [],
   "source": []
  },
  {
   "cell_type": "code",
   "execution_count": null,
   "id": "f1aeab91-952a-4f60-a5cd-30e686967943",
   "metadata": {},
   "outputs": [],
   "source": []
  },
  {
   "cell_type": "markdown",
   "id": "389bf162-55fa-4993-9c47-6d8f642e2905",
   "metadata": {},
   "source": [
    "Problem 3: Remove the nth node from the end of a linked list.\n",
    "\n",
    "Input: 1 -> 2 -> 3 -> 4 -> 5, n = 2\n",
    "Output: 1 -> 2 -> 3 -> 5"
   ]
  },
  {
   "cell_type": "code",
   "execution_count": 26,
   "id": "1c72c251-ea99-4466-a432-3457616e41da",
   "metadata": {},
   "outputs": [],
   "source": [
    "class ListNode:\n",
    "    def __init__(self, value=0, next=None):\n",
    "        self.value = value\n",
    "        self.next = next\n",
    "\n",
    "def remove_nth_from_end(head, n):\n",
    "    dummy = ListNode(0)\n",
    "    dummy.next = head\n",
    "    fast = slow = dummy\n",
    "\n",
    "    \n",
    "    for _ in range(n + 1):\n",
    "        fast = fast.next\n",
    "\n",
    "    \n",
    "    while fast is not None:\n",
    "        fast = fast.next\n",
    "        slow = slow.next\n",
    "\n",
    "    \n",
    "    slow.next = slow.next.next\n",
    "\n",
    "    return dummy.next\n",
    "\n",
    "def print_linked_list(head):\n",
    "    current = head\n",
    "    while current is not None:\n",
    "        print(current.value, end=\" -> \")\n",
    "        current = current.next\n",
    "    print(\"None\")\n"
   ]
  },
  {
   "cell_type": "code",
   "execution_count": 27,
   "id": "70db03da-b7bf-4307-a9e0-417d81976e24",
   "metadata": {},
   "outputs": [],
   "source": [
    "# Example:\n",
    "head = ListNode(1, ListNode(2, ListNode(3, ListNode(4, ListNode(5)))))"
   ]
  },
  {
   "cell_type": "code",
   "execution_count": 28,
   "id": "0f67f366-d34a-450c-b0da-620b448f0124",
   "metadata": {},
   "outputs": [
    {
     "name": "stdout",
     "output_type": "stream",
     "text": [
      "Original linked list:\n",
      "1 -> 2 -> 3 -> 4 -> 5 -> None\n",
      "\n",
      "Linked list after removing 2th node from the end:\n",
      "1 -> 2 -> 3 -> 5 -> None\n"
     ]
    }
   ],
   "source": [
    "print(\"Original linked list:\")\n",
    "print_linked_list(head)\n",
    "\n",
    "n = 2\n",
    "new_head = remove_nth_from_end(head, n)\n",
    "\n",
    "print(f\"\\nLinked list after removing {n}th node from the end:\")\n",
    "print_linked_list(new_head)"
   ]
  },
  {
   "cell_type": "code",
   "execution_count": null,
   "id": "820ee46e-4cae-4419-8540-684330c29cd5",
   "metadata": {},
   "outputs": [],
   "source": []
  },
  {
   "cell_type": "code",
   "execution_count": null,
   "id": "e064db28-478f-4061-b61e-889effeb93f0",
   "metadata": {},
   "outputs": [],
   "source": []
  },
  {
   "cell_type": "markdown",
   "id": "35894e3e-ce31-4d0c-9452-c89e76218e92",
   "metadata": {},
   "source": [
    "Problem 4: Find the intersection point of two linked lists.\n",
    "\n",
    "Input: List 1: 1 -> 2 -> 3 -> 4, List 2: 9 -> 8 -> 3 -> 4\n",
    "Output: Node with value 3"
   ]
  },
  {
   "cell_type": "code",
   "execution_count": 29,
   "id": "89cd239a-cd59-4135-86a4-53bbbf50d30e",
   "metadata": {},
   "outputs": [],
   "source": [
    "class ListNode:\n",
    "    def __init__(self, value=0, next=None):\n",
    "        self.value = value\n",
    "        self.next = next\n",
    "\n",
    "def find_intersection(head1, head2):\n",
    "    def get_length(node):\n",
    "        length = 0\n",
    "        while node:\n",
    "            length += 1\n",
    "            node = node.next\n",
    "        return length\n",
    "\n",
    "    \n",
    "    length1 = get_length(head1)\n",
    "    length2 = get_length(head2)\n",
    "\n",
    "    \n",
    "    while length1 > length2:\n",
    "        head1 = head1.next\n",
    "        length1 -= 1\n",
    "\n",
    "    while length2 > length1:\n",
    "        head2 = head2.next\n",
    "        length2 -= 1\n",
    "\n",
    "    \n",
    "    while head1 != head2:\n",
    "        head1 = head1.next\n",
    "        head2 = head2.next\n",
    "\n",
    "    return head1\n",
    "\n",
    "def print_linked_list(head):\n",
    "    current = head\n",
    "    while current is not None:\n",
    "        print(current.value, end=\" -> \")\n",
    "        current = current.next\n",
    "    print(\"None\")\n"
   ]
  },
  {
   "cell_type": "code",
   "execution_count": 30,
   "id": "373fcae7-f172-4e10-b37e-465214826c56",
   "metadata": {},
   "outputs": [],
   "source": [
    "# Example:\n",
    "list1 = ListNode(1, ListNode(2, ListNode(3, ListNode(4))))\n",
    "list2 = ListNode(9, ListNode(8, list1.next.next))  "
   ]
  },
  {
   "cell_type": "code",
   "execution_count": 31,
   "id": "2693195e-6d1f-478d-973a-8a59b1ed0dca",
   "metadata": {},
   "outputs": [
    {
     "name": "stdout",
     "output_type": "stream",
     "text": [
      "List 1:\n",
      "1 -> 2 -> 3 -> 4 -> None\n",
      "\n",
      "List 2:\n",
      "9 -> 8 -> 3 -> 4 -> None\n",
      "\n",
      "Intersection point at node with value 3\n"
     ]
    }
   ],
   "source": [
    "print(\"List 1:\")\n",
    "print_linked_list(list1)\n",
    "print(\"\\nList 2:\")\n",
    "print_linked_list(list2)\n",
    "\n",
    "intersection_node = find_intersection(list1, list2)\n",
    "\n",
    "if intersection_node:\n",
    "    print(f\"\\nIntersection point at node with value {intersection_node.value}\")\n",
    "else:\n",
    "    print(\"\\nNo intersection point found.\")"
   ]
  },
  {
   "cell_type": "code",
   "execution_count": null,
   "id": "bc493711-6ed2-4a62-930a-1c9dd91b083d",
   "metadata": {},
   "outputs": [],
   "source": []
  },
  {
   "cell_type": "code",
   "execution_count": null,
   "id": "ac4aac2f-d2a6-4a0c-8785-574a307de5c5",
   "metadata": {},
   "outputs": [],
   "source": []
  },
  {
   "cell_type": "markdown",
   "id": "e16ba6d5-9738-4478-8f1b-c254f8818f10",
   "metadata": {},
   "source": [
    "Problem 5: Remove duplicates from a sorted linked list.\n",
    "\n",
    "Input: 1 -> 1 -> 2 -> 3 -> 3\n",
    "Output: 1 -> 2 -> 3"
   ]
  },
  {
   "cell_type": "code",
   "execution_count": 37,
   "id": "27857c6f-0e41-4374-82e7-139559a14736",
   "metadata": {},
   "outputs": [],
   "source": [
    "class ListNode:\n",
    "    def __init__(self, value=0, next=None):\n",
    "        self.value = value\n",
    "        self.next = next\n",
    "\n",
    "def remove_duplicates(head):\n",
    "    current = head\n",
    "\n",
    "    while current is not None and current.next is not None:\n",
    "        if current.value == current.next.value:\n",
    "            current.next = current.next.next\n",
    "        else:\n",
    "            current = current.next\n",
    "\n",
    "    return head\n",
    "\n",
    "def print_linked_list(head):\n",
    "    current = head\n",
    "    while current is not None:\n",
    "        print(current.value, end=\" -> \")\n",
    "        current = current.next\n",
    "    print(\"None\")\n"
   ]
  },
  {
   "cell_type": "code",
   "execution_count": 38,
   "id": "d4eb8c81-5ab0-414c-8d15-ce6ea36a3de2",
   "metadata": {},
   "outputs": [],
   "source": [
    "# Example:\n",
    "head = ListNode(1, ListNode(1, ListNode(2, ListNode(3, ListNode(3)))))"
   ]
  },
  {
   "cell_type": "code",
   "execution_count": 39,
   "id": "ea61b562-a320-48bf-bf92-793d5f55db07",
   "metadata": {},
   "outputs": [
    {
     "name": "stdout",
     "output_type": "stream",
     "text": [
      "Original linked list:\n",
      "1 -> 1 -> 2 -> 3 -> 3 -> None\n",
      "\n",
      "Linked list after removing duplicates:\n",
      "1 -> 2 -> 3 -> None\n"
     ]
    }
   ],
   "source": [
    "print(\"Original linked list:\")\n",
    "print_linked_list(head)\n",
    "\n",
    "new_head = remove_duplicates(head)\n",
    "\n",
    "print(\"\\nLinked list after removing duplicates:\")\n",
    "print_linked_list(new_head)"
   ]
  },
  {
   "cell_type": "code",
   "execution_count": null,
   "id": "17d33f8d-8b7f-43b9-99ac-32bb97983e62",
   "metadata": {},
   "outputs": [],
   "source": []
  },
  {
   "cell_type": "code",
   "execution_count": null,
   "id": "484d4344-5e71-40a4-96b6-ec283cf5f7e7",
   "metadata": {},
   "outputs": [],
   "source": []
  },
  {
   "cell_type": "markdown",
   "id": "a1633da7-be0c-4897-9c3f-54f13b35e742",
   "metadata": {},
   "source": [
    "Problem 6: Add two numbers represented by linked lists (where each node contains a single digit).\n",
    "\n",
    "Input: List 1: 2 -> 4 -> 3, List 2: 5 -> 6 -> 4 (represents 342 + 465)\n",
    "Output: 7 -> 0 -> 8 (represents 807)"
   ]
  },
  {
   "cell_type": "code",
   "execution_count": 40,
   "id": "3b8afe98-2d73-4edc-aca9-d13d30f872ee",
   "metadata": {},
   "outputs": [],
   "source": [
    "class ListNode:\n",
    "    def __init__(self, value=0, next=None):\n",
    "        self.value = value\n",
    "        self.next = next\n",
    "\n",
    "def add_linked_lists(l1, l2):\n",
    "    dummy = ListNode()\n",
    "    current = dummy\n",
    "    carry = 0\n",
    "\n",
    "    while l1 is not None or l2 is not None or carry:\n",
    "        \n",
    "        val1 = l1.value if l1 else 0\n",
    "        val2 = l2.value if l2 else 0\n",
    "\n",
    "        \n",
    "        total = val1 + val2 + carry\n",
    "        carry, digit = divmod(total, 10)\n",
    "\n",
    "        \n",
    "        current.next = ListNode(digit)\n",
    "        current = current.next\n",
    "\n",
    "        \n",
    "        if l1:\n",
    "            l1 = l1.next\n",
    "        if l2:\n",
    "            l2 = l2.next\n",
    "\n",
    "    return dummy.next\n",
    "\n",
    "def print_linked_list(head):\n",
    "    current = head\n",
    "    while current is not None:\n",
    "        print(current.value, end=\" -> \")\n",
    "        current = current.next\n",
    "    print(\"None\")\n"
   ]
  },
  {
   "cell_type": "code",
   "execution_count": 41,
   "id": "b3e1e7d4-23cb-4ae8-85ad-24e3fe8c36e1",
   "metadata": {},
   "outputs": [],
   "source": [
    "# Example:\n",
    "list1 = ListNode(2, ListNode(4, ListNode(3)))\n",
    "list2 = ListNode(5, ListNode(6, ListNode(4)))"
   ]
  },
  {
   "cell_type": "code",
   "execution_count": 42,
   "id": "6dbcefe0-c17e-49ae-ac80-4159d993e993",
   "metadata": {},
   "outputs": [
    {
     "name": "stdout",
     "output_type": "stream",
     "text": [
      "List 1:\n",
      "2 -> 4 -> 3 -> None\n",
      "\n",
      "List 2:\n",
      "5 -> 6 -> 4 -> None\n",
      "\n",
      "Sum of the two numbers:\n",
      "7 -> 0 -> 8 -> None\n"
     ]
    }
   ],
   "source": [
    "print(\"List 1:\")\n",
    "print_linked_list(list1)\n",
    "print(\"\\nList 2:\")\n",
    "print_linked_list(list2)\n",
    "\n",
    "sum_list = add_linked_lists(list1, list2)\n",
    "\n",
    "print(\"\\nSum of the two numbers:\")\n",
    "print_linked_list(sum_list)"
   ]
  },
  {
   "cell_type": "code",
   "execution_count": null,
   "id": "5c241c2b-ec5c-4afb-80ad-79489695757f",
   "metadata": {},
   "outputs": [],
   "source": []
  },
  {
   "cell_type": "code",
   "execution_count": null,
   "id": "940d8126-b032-4cf9-9721-b0091ae95d2a",
   "metadata": {},
   "outputs": [],
   "source": []
  },
  {
   "cell_type": "markdown",
   "id": "88d62461-f74c-4802-b399-3a3bc8dcbfd1",
   "metadata": {},
   "source": [
    "Problem 7: Swap nodes in pairs in a linked list.\n",
    "\n",
    "Input: 1 -> 2 -> 3 -> 4\n",
    "Output: 2 -> 1 -> 4 -> 3"
   ]
  },
  {
   "cell_type": "code",
   "execution_count": 1,
   "id": "07560138-bf44-4e69-9941-eba61ae9a685",
   "metadata": {},
   "outputs": [],
   "source": [
    "class ListNode:\n",
    "    def __init__(self, val=0, next=None):\n",
    "        self.val = val\n",
    "        self.next = next\n",
    "\n",
    "def swapPairs(head):\n",
    "    \n",
    "    dummy = ListNode(0)\n",
    "    dummy.next = head\n",
    "    current = dummy\n",
    "\n",
    "    while current.next and current.next.next:\n",
    "        \n",
    "        node1 = current.next\n",
    "        node2 = current.next.next\n",
    "\n",
    "        \n",
    "        current.next = node2\n",
    "        node1.next = node2.next\n",
    "        node2.next = node1\n",
    "\n",
    "        \n",
    "        current = node1\n",
    "\n",
    "    return dummy.next\n"
   ]
  },
  {
   "cell_type": "code",
   "execution_count": 3,
   "id": "df5448b8-46e1-45bc-bd07-a9d5fbb91022",
   "metadata": {},
   "outputs": [],
   "source": [
    "def createLinkedList(elements):\n",
    "    dummy = ListNode(0)\n",
    "    current = dummy\n",
    "    for element in elements:\n",
    "        current.next = ListNode(element)\n",
    "        current = current.next\n",
    "    return dummy.next\n",
    "\n",
    "def printLinkedList(head):\n",
    "    current = head\n",
    "    while current:\n",
    "        print(current.val, end=\" -> \")\n",
    "        current = current.next\n",
    "    print(\"None\")\n"
   ]
  },
  {
   "cell_type": "code",
   "execution_count": 4,
   "id": "d8d55fd8-04f3-4cda-83a6-26fe0a6b7ecc",
   "metadata": {},
   "outputs": [],
   "source": [
    "# Example:\n",
    "input_list = createLinkedList([1, 2, 3, 4])\n",
    "output_list = swapPairs(input_list)"
   ]
  },
  {
   "cell_type": "code",
   "execution_count": 5,
   "id": "a05c948c-783d-40ca-a360-84f0186074f7",
   "metadata": {},
   "outputs": [
    {
     "name": "stdout",
     "output_type": "stream",
     "text": [
      "2 -> 1 -> 4 -> 3 -> None\n"
     ]
    }
   ],
   "source": [
    "printLinkedList(output_list)"
   ]
  },
  {
   "cell_type": "code",
   "execution_count": null,
   "id": "cf67eabd-b37f-4253-9524-2c28c37742a1",
   "metadata": {},
   "outputs": [],
   "source": []
  },
  {
   "cell_type": "code",
   "execution_count": null,
   "id": "799b1fb1-b486-4539-afc3-b1136b871c3a",
   "metadata": {},
   "outputs": [],
   "source": []
  },
  {
   "cell_type": "markdown",
   "id": "97f1a4b9-5f39-4004-958a-0bea67bbcce0",
   "metadata": {},
   "source": [
    "Problem 8: Reverse nodes in a linked list in groups of k.\n",
    "\n",
    "Input: 1 -> 2 -> 3 -> 4 -> 5, k = 3\n",
    "Output: 3 -> 2 -> 1 -> 4 -> 5"
   ]
  },
  {
   "cell_type": "code",
   "execution_count": 6,
   "id": "5094afa6-9499-45ec-a1dc-cac374196b0b",
   "metadata": {},
   "outputs": [],
   "source": [
    "class ListNode:\n",
    "    def __init__(self, val=0, next=None):\n",
    "        self.val = val\n",
    "        self.next = next\n",
    "\n",
    "def reverseKGroup(head, k):\n",
    "    \n",
    "    def reverseSublist(start, end):\n",
    "        prev, curr = None, start\n",
    "        while curr != end:\n",
    "            next_node = curr.next\n",
    "            curr.next = prev\n",
    "            prev = curr\n",
    "            curr = next_node\n",
    "        return prev\n",
    "\n",
    "    dummy = ListNode(0)\n",
    "    dummy.next = head\n",
    "    current = dummy\n",
    "\n",
    "    while True:\n",
    "        \n",
    "        end = current\n",
    "        for i in range(k):\n",
    "            end = end.next\n",
    "            if not end:\n",
    "                return dummy.next  \n",
    "\n",
    "        \n",
    "        start = current.next\n",
    "        new_head = reverseSublist(start, end)\n",
    "\n",
    "        \n",
    "        current.next = new_head\n",
    "        start.next = end\n",
    "\n",
    "        \n",
    "        current = start\n",
    "\n",
    "    return dummy.next\n"
   ]
  },
  {
   "cell_type": "code",
   "execution_count": 8,
   "id": "0d9cb4df-a64e-4f56-acc3-06d139c6b66d",
   "metadata": {},
   "outputs": [],
   "source": [
    "def createLinkedList(elements):\n",
    "    dummy = ListNode(0)\n",
    "    current = dummy\n",
    "    for element in elements:\n",
    "        current.next = ListNode(element)\n",
    "        current = current.next\n",
    "    return dummy.next\n",
    "\n",
    "def printLinkedList(head):\n",
    "    current = head\n",
    "    while current:\n",
    "        print(current.val, end=\" -> \")\n",
    "        current = current.next\n",
    "    print(\"None\")\n"
   ]
  },
  {
   "cell_type": "code",
   "execution_count": 9,
   "id": "013b0276-1784-41e4-a8dd-ae3cae63f840",
   "metadata": {},
   "outputs": [],
   "source": [
    "# Example:\n",
    "input_list = createLinkedList([1, 2, 3, 4, 5])\n",
    "k = 3\n",
    "output_list = reverseKGroup(input_list, k)"
   ]
  },
  {
   "cell_type": "code",
   "execution_count": 10,
   "id": "26f01001-e3f5-4c85-abc6-11dce2be5e3e",
   "metadata": {},
   "outputs": [
    {
     "name": "stdout",
     "output_type": "stream",
     "text": [
      "2 -> 1 -> 4 -> 3 -> 5 -> None\n"
     ]
    }
   ],
   "source": [
    "printLinkedList(output_list)"
   ]
  },
  {
   "cell_type": "code",
   "execution_count": null,
   "id": "e61db9dd-155b-43c4-9d28-88592a77c2ea",
   "metadata": {},
   "outputs": [],
   "source": []
  },
  {
   "cell_type": "code",
   "execution_count": null,
   "id": "520c979f-fda2-48c4-b8bf-4b5b3ad61f55",
   "metadata": {},
   "outputs": [],
   "source": []
  },
  {
   "cell_type": "markdown",
   "id": "689b9280-5737-4278-b933-b4cb7c292d85",
   "metadata": {},
   "source": [
    "Problem 9: Determine if a linked list is a palindrome.\n",
    "\n",
    "Input: 1 -> 2 -> 2 -> 1\n",
    "Output: True"
   ]
  },
  {
   "cell_type": "code",
   "execution_count": 11,
   "id": "e1d51022-5e3c-457c-ae08-7cfc2a3c41c8",
   "metadata": {},
   "outputs": [],
   "source": [
    "class ListNode:\n",
    "    def __init__(self, val=0, next=None):\n",
    "        self.val = val\n",
    "        self.next = next\n",
    "\n",
    "def isPalindrome(head):\n",
    "    \n",
    "    def reverseLinkedList(node):\n",
    "        prev, current = None, node\n",
    "        while current:\n",
    "            next_node = current.next\n",
    "            current.next = prev\n",
    "            prev = current\n",
    "            current = next_node\n",
    "        return prev\n",
    "\n",
    "    \n",
    "    def findMiddle(node):\n",
    "        slow = fast = node\n",
    "        while fast and fast.next:\n",
    "            slow = slow.next\n",
    "            fast = fast.next.next\n",
    "        return slow\n",
    "\n",
    "    if not head or not head.next:\n",
    "        return True  \n",
    "\n",
    "    \n",
    "    middle = findMiddle(head)\n",
    "\n",
    "    \n",
    "    reversed_second_half = reverseLinkedList(middle)\n",
    "\n",
    "    \n",
    "    current1, current2 = head, reversed_second_half\n",
    "    while current2:\n",
    "        if current1.val != current2.val:\n",
    "            return False\n",
    "        current1, current2 = current1.next, current2.next\n",
    "\n",
    "    return True\n",
    "\n",
    "\n",
    "def createLinkedList(elements):\n",
    "    dummy = ListNode(0)\n",
    "    current = dummy\n",
    "    for element in elements:\n",
    "        current.next = ListNode(element)\n",
    "        current = current.next\n",
    "    return dummy.next\n"
   ]
  },
  {
   "cell_type": "code",
   "execution_count": 12,
   "id": "78549cb9-44fe-4dda-8169-a9eca16f8a35",
   "metadata": {},
   "outputs": [],
   "source": [
    "# Example:\n",
    "input_list = createLinkedList([1, 2, 2, 1])"
   ]
  },
  {
   "cell_type": "code",
   "execution_count": 13,
   "id": "c4ce6042-bd50-40fd-90d4-5443ef058488",
   "metadata": {},
   "outputs": [
    {
     "name": "stdout",
     "output_type": "stream",
     "text": [
      "True\n"
     ]
    }
   ],
   "source": [
    "print(isPalindrome(input_list))"
   ]
  },
  {
   "cell_type": "code",
   "execution_count": null,
   "id": "389eaa40-c7d9-4df1-becb-b70c5f8625e3",
   "metadata": {},
   "outputs": [],
   "source": []
  },
  {
   "cell_type": "code",
   "execution_count": null,
   "id": "59a009a4-07cd-4af2-a319-4633d6f80993",
   "metadata": {},
   "outputs": [],
   "source": []
  },
  {
   "cell_type": "markdown",
   "id": "5e6e94d7-2eda-40d9-882f-d5032ac153f4",
   "metadata": {},
   "source": [
    "Problem 10: Rotate a linked list to the right by k places.\n",
    "\n",
    "Input: 1 -> 2 -> 3 -> 4 -> 5, k = 2\n",
    "Output: 4 -> 5 -> 1 -> 2 -> 3"
   ]
  },
  {
   "cell_type": "code",
   "execution_count": 17,
   "id": "40355cbb-f8a6-4f5b-82e8-7564d3d1bab5",
   "metadata": {},
   "outputs": [],
   "source": [
    "class ListNode:\n",
    "    def __init__(self, val=0, next=None):\n",
    "        self.val = val\n",
    "        self.next = next\n",
    "\n",
    "def rotateRight(head, k):\n",
    "    if not head or k == 0:\n",
    "        return head \n",
    "\n",
    "    \n",
    "    length = 1\n",
    "    current = head\n",
    "    while current.next:\n",
    "        current = current.next\n",
    "        length += 1\n",
    "\n",
    "    \n",
    "    k %= length\n",
    "    if k == 0:\n",
    "        return head \n",
    "\n",
    "    \n",
    "    new_head_position = length - k\n",
    "    current.next = head  \n",
    "    current = head\n",
    "\n",
    "    \n",
    "    for _ in range(new_head_position - 1):\n",
    "        current = current.next\n",
    "\n",
    "    \n",
    "    new_head = current.next\n",
    "    current.next = None\n",
    "\n",
    "    return new_head\n",
    "\n",
    "def createLinkedList(elements):\n",
    "    dummy = ListNode(0)\n",
    "    current = dummy\n",
    "    for element in elements:\n",
    "        current.next = ListNode(element)\n",
    "        current = current.next\n",
    "    return dummy.next\n",
    "\n",
    "def printLinkedList(head):\n",
    "    current = head\n",
    "    while current:\n",
    "        print(current.val, end=\" -> \")\n",
    "        current = current.next\n",
    "    print(\"None\")\n"
   ]
  },
  {
   "cell_type": "code",
   "execution_count": 18,
   "id": "01a2ba87-50be-4096-8684-f6a670651018",
   "metadata": {},
   "outputs": [],
   "source": [
    "# Example:\n",
    "input_list = createLinkedList([1, 2, 3, 4, 5])\n",
    "k = 2\n",
    "output_list = rotateRight(input_list, k)"
   ]
  },
  {
   "cell_type": "code",
   "execution_count": 19,
   "id": "2e34f9a5-316c-41ae-9702-dded9dbe926f",
   "metadata": {},
   "outputs": [
    {
     "name": "stdout",
     "output_type": "stream",
     "text": [
      "4 -> 5 -> 1 -> 2 -> 3 -> None\n"
     ]
    }
   ],
   "source": [
    "printLinkedList(output_list)"
   ]
  },
  {
   "cell_type": "code",
   "execution_count": null,
   "id": "7ee82240-79c0-44fd-8233-c2b1233b2a4f",
   "metadata": {},
   "outputs": [],
   "source": []
  },
  {
   "cell_type": "markdown",
   "id": "e7bd2030-0269-4dce-8822-98281f449d1e",
   "metadata": {},
   "source": []
  },
  {
   "cell_type": "markdown",
   "id": "4f62ee9e-8b1c-490e-b461-780ae01fff5b",
   "metadata": {},
   "source": [
    "Problem 11: Flatten a multilevel doubly linked list.\n",
    "\n",
    "Input: 1 <-> 2 <-> 3 <-> 7 <-> 8 <-> 11 -> 12, 4 <-> 5 -> 9 -> 10, 6 -> 13\n",
    "Output: 1 <-> 2 <-> 3 <-> 4 <-> 5 <-> 6 <-> 7 <-> 8 <-> 9 <-> 10 <-> 11 <-> 12 <-> 13"
   ]
  },
  {
   "cell_type": "code",
   "execution_count": 20,
   "id": "c8e179a6-1090-4675-9789-616ad86f8a10",
   "metadata": {},
   "outputs": [],
   "source": [
    "class Node:\n",
    "    def __init__(self, val, prev=None, next=None, child=None):\n",
    "        self.val = val\n",
    "        self.prev = prev\n",
    "        self.next = next\n",
    "        self.child = child\n",
    "\n",
    "def flatten(head):\n",
    "    if not head:\n",
    "        return None\n",
    "\n",
    "    dummy = Node(0)  \n",
    "    dummy.next = head\n",
    "    stack = [head]  \n",
    "\n",
    "    prev = dummy  \n",
    "\n",
    "    while stack:\n",
    "        current = stack.pop()\n",
    "\n",
    "        if current.next:\n",
    "            stack.append(current.next)\n",
    "\n",
    "        if current.child:\n",
    "            stack.append(current.child)\n",
    "            current.child = None  \n",
    "\n",
    "        \n",
    "        prev.next = current\n",
    "        current.prev = prev\n",
    "        prev = current\n",
    "        current.next = None\n",
    "\n",
    "    return dummy.next\n",
    "\n",
    "def createMultilevelLinkedList(elements):\n",
    "    nodes = [Node(val) for val in elements]\n",
    "\n",
    "    for i in range(len(nodes) - 1):\n",
    "        nodes[i].next = nodes[i + 1]\n",
    "        nodes[i + 1].prev = nodes[i]\n",
    "\n",
    "    return nodes[0]\n",
    "\n",
    "def printDoublyLinkedList(head):\n",
    "    current = head\n",
    "    while current:\n",
    "        print(current.val, end=\" <-> \")\n",
    "        current = current.next\n",
    "    print(\"None\")\n"
   ]
  },
  {
   "cell_type": "code",
   "execution_count": 21,
   "id": "2dede962-91a2-4b61-99bc-75443f0f77f1",
   "metadata": {},
   "outputs": [],
   "source": [
    "# Example:\n",
    "input_list = createMultilevelLinkedList([1, 2, 3, 7, 8, 11, 12, 4, 5, 9, 10, 6, 13])\n",
    "output_list = flatten(input_list)"
   ]
  },
  {
   "cell_type": "code",
   "execution_count": 22,
   "id": "9c989bdc-6264-4410-b7a3-bb95bc1ccd4f",
   "metadata": {},
   "outputs": [
    {
     "name": "stdout",
     "output_type": "stream",
     "text": [
      "1 <-> 2 <-> 3 <-> 7 <-> 8 <-> 11 <-> 12 <-> 4 <-> 5 <-> 9 <-> 10 <-> 6 <-> 13 <-> None\n"
     ]
    }
   ],
   "source": [
    "printDoublyLinkedList(output_list)"
   ]
  },
  {
   "cell_type": "code",
   "execution_count": null,
   "id": "5a27d55c-05f2-427a-b9c3-bba81b5e3945",
   "metadata": {},
   "outputs": [],
   "source": []
  },
  {
   "cell_type": "code",
   "execution_count": null,
   "id": "fcbe68de-29d6-4f02-842a-9856b6baabd4",
   "metadata": {},
   "outputs": [],
   "source": []
  },
  {
   "cell_type": "markdown",
   "id": "27d0accd-994f-404a-8f4a-d6a3d2f235ef",
   "metadata": {},
   "source": [
    "Problem 12: Rearrange a linked list such that all even positioned nodes are placed at the end.\n",
    "\n",
    "Input: 1 -> 2 -> 3 -> 4 -> 5\n",
    "Output: 1 -> 3 -> 5 -> 2 -> 4"
   ]
  },
  {
   "cell_type": "code",
   "execution_count": 26,
   "id": "ec676263-5ad0-4d03-a8f0-882d41292585",
   "metadata": {},
   "outputs": [],
   "source": [
    "class ListNode:\n",
    "    def __init__(self, val=0, next=None):\n",
    "        self.val = val\n",
    "        self.next = next\n",
    "\n",
    "def rearrangeLinkedList(head):\n",
    "    if not head or not head.next:\n",
    "        return head\n",
    "\n",
    "    \n",
    "    odd_head, even_head = head, head.next\n",
    "    odd_current, even_current = odd_head, even_head\n",
    "\n",
    "    while even_current and even_current.next:\n",
    "        odd_current.next = even_current.next\n",
    "        odd_current = odd_current.next\n",
    "\n",
    "        even_current.next = odd_current.next\n",
    "        even_current = even_current.next\n",
    "\n",
    "    \n",
    "    even_head = reverseLinkedList(even_head)\n",
    "\n",
    "    \n",
    "    odd_current.next = even_head\n",
    "\n",
    "    return head\n",
    "\n",
    "def reverseLinkedList(head):\n",
    "    prev, current = None, head\n",
    "\n",
    "    while current:\n",
    "        next_node = current.next\n",
    "        current.next = prev\n",
    "        prev = current\n",
    "        current = next_node\n",
    "\n",
    "    return prev\n",
    "\n",
    "def createLinkedList(elements):\n",
    "    dummy = ListNode(0)\n",
    "    current = dummy\n",
    "    for element in elements:\n",
    "        current.next = ListNode(element)\n",
    "        current = current.next\n",
    "    return dummy.next\n",
    "\n",
    "def printLinkedList(head):\n",
    "    current = head\n",
    "    while current:\n",
    "        print(current.val, end=\" -> \")\n",
    "        current = current.next\n",
    "    print(\"None\")\n"
   ]
  },
  {
   "cell_type": "code",
   "execution_count": 27,
   "id": "851a5b3a-904e-460d-a87c-e93522eb2e02",
   "metadata": {},
   "outputs": [],
   "source": [
    "# Example:\n",
    "input_list = createLinkedList([1, 2, 3, 4, 5])\n",
    "output_list = rearrangeLinkedList(input_list)"
   ]
  },
  {
   "cell_type": "code",
   "execution_count": 28,
   "id": "9dc5a5a7-f38d-4a97-8b10-64ac5a57dfb8",
   "metadata": {},
   "outputs": [
    {
     "name": "stdout",
     "output_type": "stream",
     "text": [
      "1 -> 3 -> 5 -> 4 -> 2 -> None\n"
     ]
    }
   ],
   "source": [
    "printLinkedList(output_list)"
   ]
  },
  {
   "cell_type": "code",
   "execution_count": null,
   "id": "afdba81e-eea5-4e3f-b0d2-88fe5ec74ec8",
   "metadata": {},
   "outputs": [],
   "source": []
  },
  {
   "cell_type": "code",
   "execution_count": null,
   "id": "64768d96-af51-4107-8db1-1764eeec94f6",
   "metadata": {},
   "outputs": [],
   "source": []
  },
  {
   "cell_type": "markdown",
   "id": "26b6d722-f718-4470-8e37-cdbcb2eac3bb",
   "metadata": {},
   "source": [
    "Problem 13: Given a non-negative number represented as a linked list, add one to it.\n",
    "\n",
    "Input: 1 -> 2 -> 3 (represents the number 123)\n",
    "Output: 1 -> 2 -> 4 (represents the number 124)"
   ]
  },
  {
   "cell_type": "code",
   "execution_count": 29,
   "id": "2def4519-eb68-4a3b-ad94-9c93d8e40458",
   "metadata": {},
   "outputs": [],
   "source": [
    "class ListNode:\n",
    "    def __init__(self, val=0, next=None):\n",
    "        self.val = val\n",
    "        self.next = next\n",
    "\n",
    "def addOneLinkedList(head):\n",
    "    \n",
    "    reversed_head = reverseLinkedList(head)\n",
    "\n",
    "    current = reversed_head\n",
    "    carry = 1  \n",
    "\n",
    "    while current:\n",
    "        total = current.val + carry\n",
    "        current.val = total % 10\n",
    "        carry = total // 10\n",
    "\n",
    "        if carry == 0:\n",
    "            break  \n",
    "\n",
    "        if not current.next:\n",
    "            current.next = ListNode()  \n",
    "\n",
    "        current = current.next\n",
    "\n",
    "    \n",
    "    result_head = reverseLinkedList(reversed_head)\n",
    "\n",
    "    return result_head\n",
    "\n",
    "def reverseLinkedList(head):\n",
    "    prev, current = None, head\n",
    "\n",
    "    while current:\n",
    "        next_node = current.next\n",
    "        current.next = prev\n",
    "        prev = current\n",
    "        current = next_node\n",
    "\n",
    "    return prev\n",
    "\n",
    "def createLinkedList(elements):\n",
    "    dummy = ListNode(0)\n",
    "    current = dummy\n",
    "    for element in elements:\n",
    "        current.next = ListNode(element)\n",
    "        current = current.next\n",
    "    return dummy.next\n",
    "\n",
    "def printLinkedList(head):\n",
    "    current = head\n",
    "    while current:\n",
    "        print(current.val, end=\" -> \")\n",
    "        current = current.next\n",
    "    print(\"None\")"
   ]
  },
  {
   "cell_type": "code",
   "execution_count": 30,
   "id": "f68cdf88-b744-481f-be7e-ff4aec008f4b",
   "metadata": {},
   "outputs": [],
   "source": [
    "# Example:\n",
    "input_list = createLinkedList([1, 2, 3])\n",
    "output_list = addOneLinkedList(input_list)"
   ]
  },
  {
   "cell_type": "code",
   "execution_count": 31,
   "id": "e5cbbaa6-b95e-47d1-b257-b9fd6daa2e40",
   "metadata": {},
   "outputs": [
    {
     "name": "stdout",
     "output_type": "stream",
     "text": [
      "1 -> 2 -> 4 -> None\n"
     ]
    }
   ],
   "source": [
    "printLinkedList(output_list)"
   ]
  },
  {
   "cell_type": "code",
   "execution_count": null,
   "id": "ffbde8d3-b663-468f-a4c9-56f8e8a0c9c7",
   "metadata": {},
   "outputs": [],
   "source": []
  },
  {
   "cell_type": "code",
   "execution_count": null,
   "id": "403721f1-e5a9-4798-aa39-94648596f331",
   "metadata": {},
   "outputs": [],
   "source": []
  },
  {
   "cell_type": "markdown",
   "id": "883a0614-cdaf-48ca-b6d2-4b474d36155c",
   "metadata": {},
   "source": [
    "Problem 14: Given a sorted array and a target value, return the index if the target is found. If not, return the\n",
    "index where it would be inserted.\n",
    "\n",
    "Input: nums = [1, 3, 5, 6], target = 5\n",
    "Output: 2"
   ]
  },
  {
   "cell_type": "code",
   "execution_count": 36,
   "id": "6f42170a-0403-4712-bca8-814a77b917bf",
   "metadata": {},
   "outputs": [],
   "source": [
    "def searchInsert(nums, target):\n",
    "    low, high = 0, len(nums) - 1\n",
    "\n",
    "    while low <= high:\n",
    "        mid = low + (high - low) // 2\n",
    "\n",
    "        if nums[mid] == target:\n",
    "            return mid\n",
    "        elif nums[mid] < target:\n",
    "            low = mid + 1\n",
    "        else:\n",
    "            high = mid - 1\n",
    "\n",
    "    \n",
    "    return low\n"
   ]
  },
  {
   "cell_type": "code",
   "execution_count": 37,
   "id": "03b0382b-7dc8-488d-a3e2-07c6a3cec569",
   "metadata": {},
   "outputs": [],
   "source": [
    "# Example:\n",
    "nums = [1, 3, 5, 6]\n",
    "target = 5\n",
    "result = searchInsert(nums, target)"
   ]
  },
  {
   "cell_type": "code",
   "execution_count": 38,
   "id": "59ff276f-ffb8-49a7-8e51-e08a4a3bd36d",
   "metadata": {},
   "outputs": [
    {
     "name": "stdout",
     "output_type": "stream",
     "text": [
      "2\n"
     ]
    }
   ],
   "source": [
    "print(result)"
   ]
  },
  {
   "cell_type": "code",
   "execution_count": null,
   "id": "bade912a-26bd-4447-a1c8-416a1dccec52",
   "metadata": {},
   "outputs": [],
   "source": []
  },
  {
   "cell_type": "code",
   "execution_count": null,
   "id": "3dad7894-9c19-44bd-be3d-7172e5a14905",
   "metadata": {},
   "outputs": [],
   "source": []
  },
  {
   "cell_type": "markdown",
   "id": "a38cacc0-0477-45af-84ee-bb98eca3dcf9",
   "metadata": {},
   "source": [
    "Problem 15: Find the minimum element in a rotated sorted array.\n",
    "\n",
    "Input: [4, 5, 6, 7, 0, 1, 2]\n",
    "Output: 0"
   ]
  },
  {
   "cell_type": "code",
   "execution_count": 39,
   "id": "4dc49175-8f3a-4cff-9a41-0488b60078ad",
   "metadata": {},
   "outputs": [],
   "source": [
    "def find_minimum(nums):\n",
    "    if not nums:\n",
    "        return None\n",
    "    \n",
    "    left, right = 0, len(nums) - 1\n",
    "    \n",
    "    while left < right:\n",
    "        mid = left + (right - left) // 2\n",
    "        \n",
    "        if nums[mid] > nums[right]:\n",
    "            \n",
    "            left = mid + 1\n",
    "        elif nums[mid] < nums[right]:\n",
    "            \n",
    "            right = mid\n",
    "        else:\n",
    "            \n",
    "            right -= 1\n",
    "    \n",
    "    \n",
    "    return nums[left]\n"
   ]
  },
  {
   "cell_type": "code",
   "execution_count": 40,
   "id": "078619a0-5725-4984-83c3-69946bfc54e9",
   "metadata": {},
   "outputs": [],
   "source": [
    "# Example:\n",
    "input_array = [4, 5, 6, 7, 0, 1, 2]\n",
    "output = find_minimum(input_array)"
   ]
  },
  {
   "cell_type": "code",
   "execution_count": 41,
   "id": "a361dfb2-efc9-4ab1-ad7a-928b810545c0",
   "metadata": {},
   "outputs": [
    {
     "name": "stdout",
     "output_type": "stream",
     "text": [
      "0\n"
     ]
    }
   ],
   "source": [
    "print(output)"
   ]
  },
  {
   "cell_type": "code",
   "execution_count": null,
   "id": "70f551a1-50ea-4e37-96df-e22f36ab37a4",
   "metadata": {},
   "outputs": [],
   "source": []
  },
  {
   "cell_type": "code",
   "execution_count": null,
   "id": "ab002595-596e-46d3-aab9-d927115c0cb9",
   "metadata": {},
   "outputs": [],
   "source": []
  },
  {
   "cell_type": "markdown",
   "id": "a4461abb-4c97-4d88-9ebd-9df6c679ab22",
   "metadata": {},
   "source": [
    "Problem 16: Search for a target value in a rotated sorted array.\n",
    "\n",
    "Input: nums = [4, 5, 6, 7, 0, 1, 2], target = 0\n",
    "Output: 4"
   ]
  },
  {
   "cell_type": "code",
   "execution_count": 43,
   "id": "19abc0b4-dd8e-4d70-9680-0ef8e0cbdf5e",
   "metadata": {},
   "outputs": [],
   "source": [
    "def search(nums, target):\n",
    "    if not nums:\n",
    "        return -1\n",
    "    \n",
    "    left, right = 0, len(nums) - 1\n",
    "    \n",
    "    while left <= right:\n",
    "        mid = left + (right - left) // 2\n",
    "        \n",
    "        if nums[mid] == target:\n",
    "            return mid\n",
    "        \n",
    "        if nums[mid] >= nums[left]:\n",
    "            \n",
    "            if nums[left] <= target < nums[mid]:\n",
    "                right = mid - 1\n",
    "            else:\n",
    "                left = mid + 1\n",
    "        else:\n",
    "            \n",
    "            if nums[mid] < target <= nums[right]:\n",
    "                left = mid + 1\n",
    "            else:\n",
    "                right = mid - 1\n",
    "    \n",
    "    return -1  \n"
   ]
  },
  {
   "cell_type": "code",
   "execution_count": 44,
   "id": "d8df1924-1a93-4abf-9efc-00add9482d03",
   "metadata": {},
   "outputs": [],
   "source": [
    "# Example:\n",
    "input_array = [4, 5, 6, 7, 0, 1, 2]\n",
    "target_value = 0\n",
    "output = search(input_array, target_value)"
   ]
  },
  {
   "cell_type": "code",
   "execution_count": 45,
   "id": "2207ac0b-ee37-43a2-827d-c9950b837e6c",
   "metadata": {},
   "outputs": [
    {
     "name": "stdout",
     "output_type": "stream",
     "text": [
      "4\n"
     ]
    }
   ],
   "source": [
    "print(output)"
   ]
  },
  {
   "cell_type": "code",
   "execution_count": null,
   "id": "9ec631d7-dfe1-4c0c-8043-102130056b83",
   "metadata": {},
   "outputs": [],
   "source": []
  },
  {
   "cell_type": "code",
   "execution_count": null,
   "id": "38780fb4-3057-4765-b458-a1d7bcf23c74",
   "metadata": {},
   "outputs": [],
   "source": []
  },
  {
   "cell_type": "markdown",
   "id": "45b9dd44-9945-43f3-9b80-1b2bf45f5cf4",
   "metadata": {},
   "source": [
    "Problem 17: Find the peak element in an array. A peak element is greater than its neighbors.\n",
    "\n",
    "Input: nums = [1, 2, 3, 1]\n",
    "Output: 2 (index of peak element)"
   ]
  },
  {
   "cell_type": "code",
   "execution_count": 46,
   "id": "c13bd357-27df-4f95-b116-6231cb8faab3",
   "metadata": {},
   "outputs": [],
   "source": [
    "def find_peak_element(nums):\n",
    "    if not nums:\n",
    "        return -1  \n",
    "    \n",
    "    left, right = 0, len(nums) - 1\n",
    "    \n",
    "    while left < right:\n",
    "        mid = left + (right - left) // 2\n",
    "        \n",
    "        if nums[mid] > nums[mid + 1]:\n",
    "            \n",
    "            right = mid\n",
    "        else:\n",
    "            \n",
    "            left = mid + 1\n",
    "    \n",
    "    \n",
    "    return left\n"
   ]
  },
  {
   "cell_type": "code",
   "execution_count": 47,
   "id": "924332a4-b7cf-4465-8f2f-5f70216ffb06",
   "metadata": {},
   "outputs": [],
   "source": [
    "# Example:\n",
    "input_array = [1, 2, 3, 1]\n",
    "output = find_peak_element(input_array)"
   ]
  },
  {
   "cell_type": "code",
   "execution_count": 48,
   "id": "32df920b-0200-477f-a882-9c5e997d62de",
   "metadata": {},
   "outputs": [
    {
     "name": "stdout",
     "output_type": "stream",
     "text": [
      "2\n"
     ]
    }
   ],
   "source": [
    "print(output)"
   ]
  },
  {
   "cell_type": "code",
   "execution_count": null,
   "id": "5c75e3e7-cc42-46ab-8fde-d84b511944bf",
   "metadata": {},
   "outputs": [],
   "source": []
  },
  {
   "cell_type": "code",
   "execution_count": null,
   "id": "ecc84d4c-9af9-4e69-bd8c-87c12c3bc6e5",
   "metadata": {},
   "outputs": [],
   "source": []
  },
  {
   "cell_type": "markdown",
   "id": "f66be72d-78a3-4fdc-8a28-6347f7d98c9b",
   "metadata": {},
   "source": [
    "Problem 18: Given a m x n matrix where each row and column is sorted in ascending order, count the number\n",
    "of negative numbers.\n",
    "\n",
    "Input: grid = [[4, 3, 2, -1], [3, 2, 1, -1], [1, 1, -1, -2], [-1, -1, -2, -3]]\n",
    "Output: 8"
   ]
  },
  {
   "cell_type": "code",
   "execution_count": 49,
   "id": "9b091e90-c27b-4d3e-b6dd-68f03545b460",
   "metadata": {},
   "outputs": [],
   "source": [
    "def count_negatives(matrix):\n",
    "    if not matrix or not matrix[0]:\n",
    "        return 0\n",
    "\n",
    "    rows, cols = len(matrix), len(matrix[0])\n",
    "    count = 0\n",
    "    row, col = 0, cols - 1\n",
    "\n",
    "    while row < rows and col >= 0:\n",
    "        if matrix[row][col] < 0:\n",
    "            \n",
    "            count += (rows - row)\n",
    "            col -= 1\n",
    "        else:\n",
    "            \n",
    "            row += 1\n",
    "\n",
    "    return count"
   ]
  },
  {
   "cell_type": "code",
   "execution_count": 50,
   "id": "110e6f37-a9e7-4b43-ac2f-323b211a5f82",
   "metadata": {},
   "outputs": [],
   "source": [
    "# Example:\n",
    "input_matrix = [\n",
    "    [4, 3, 2, -1],\n",
    "    [3, 2, 1, -1],\n",
    "    [1, 1, -1, -2],\n",
    "    [-1, -1, -2, -3]\n",
    "]\n",
    "\n",
    "output = count_negatives(input_matrix)"
   ]
  },
  {
   "cell_type": "code",
   "execution_count": 51,
   "id": "233e6b05-1256-4fe9-9d7a-729db4b1baa2",
   "metadata": {},
   "outputs": [
    {
     "name": "stdout",
     "output_type": "stream",
     "text": [
      "8\n"
     ]
    }
   ],
   "source": [
    "print(output)"
   ]
  },
  {
   "cell_type": "code",
   "execution_count": null,
   "id": "a946c146-0b2c-4045-91a0-4f2820dd5a9b",
   "metadata": {},
   "outputs": [],
   "source": []
  },
  {
   "cell_type": "code",
   "execution_count": null,
   "id": "ab9554bf-8f41-46b6-a402-c1630a0691af",
   "metadata": {},
   "outputs": [],
   "source": []
  },
  {
   "cell_type": "markdown",
   "id": "bcdb93e7-6f1a-4ce9-a338-9ab6b0b7de42",
   "metadata": {},
   "source": [
    "Problem 19: Given a 2D matrix sorted in ascending order in each row, and the first integer of each row is\n",
    "greater than the last integer of the previous row, determine if a target value is present in the matrix.\n",
    "\n",
    "Input: matrix = [[1, 3, 5, 7], [10, 11, 16, 20], [23, 30, 34, 60]], target = 3\n",
    "Output: True"
   ]
  },
  {
   "cell_type": "code",
   "execution_count": 52,
   "id": "ef0ea9a3-e471-40cb-ba83-1718f33b5df5",
   "metadata": {},
   "outputs": [],
   "source": [
    "def search_matrix(matrix, target):\n",
    "    if not matrix or not matrix[0]:\n",
    "        return False\n",
    "    \n",
    "    rows, cols = len(matrix), len(matrix[0])\n",
    "    \n",
    "    left, right = 0, rows * cols - 1\n",
    "    \n",
    "    while left <= right:\n",
    "        mid = left + (right - left) // 2\n",
    "        mid_value = matrix[mid // cols][mid % cols]\n",
    "        \n",
    "        if mid_value == target:\n",
    "            return True\n",
    "        elif mid_value < target:\n",
    "            left = mid + 1\n",
    "        else:\n",
    "            right = mid - 1\n",
    "    \n",
    "    return False\n"
   ]
  },
  {
   "cell_type": "code",
   "execution_count": 53,
   "id": "7e51bed2-c956-4d5e-a9b9-ac780ea5901f",
   "metadata": {},
   "outputs": [],
   "source": [
    "# Example:\n",
    "input_matrix = [\n",
    "    [1, 3, 5, 7],\n",
    "    [10, 11, 16, 20],\n",
    "    [23, 30, 34, 60]\n",
    "]\n",
    "\n",
    "target_value = 3\n",
    "output = search_matrix(input_matrix, target_value)"
   ]
  },
  {
   "cell_type": "code",
   "execution_count": 54,
   "id": "0d2b0efa-4c65-45dd-8531-82905231449f",
   "metadata": {},
   "outputs": [
    {
     "name": "stdout",
     "output_type": "stream",
     "text": [
      "True\n"
     ]
    }
   ],
   "source": [
    "print(output)"
   ]
  },
  {
   "cell_type": "code",
   "execution_count": null,
   "id": "086fcc9f-4187-4626-89b2-7d124ba800d2",
   "metadata": {},
   "outputs": [],
   "source": []
  },
  {
   "cell_type": "code",
   "execution_count": null,
   "id": "dbcb377d-58fb-4d12-9d74-279fba96797a",
   "metadata": {},
   "outputs": [],
   "source": []
  },
  {
   "cell_type": "markdown",
   "id": "2e07d5cf-4f24-4604-9f51-8625427350c9",
   "metadata": {},
   "source": [
    "Problem 20: Find Median in Two Sorted Arrays\n",
    "Problem: Given two sorted arrays, find the median of the combined sorted array.\n",
    "\n",
    "Input: nums1 = [1, 3], nums2 = [2]\n",
    "Output: 2.0"
   ]
  },
  {
   "cell_type": "code",
   "execution_count": 32,
   "id": "ce2407f1-0457-4bd0-be08-d903349cd71d",
   "metadata": {},
   "outputs": [],
   "source": [
    "def findMedianSortedArrays(nums1, nums2):\n",
    "    \n",
    "    if len(nums1) > len(nums2):\n",
    "        nums1, nums2 = nums2, nums1\n",
    "\n",
    "    x, y = len(nums1), len(nums2)\n",
    "    low, high = 0, x\n",
    "\n",
    "    while low <= high:\n",
    "        partitionX = (low + high) // 2\n",
    "        partitionY = (x + y + 1) // 2 - partitionX\n",
    "\n",
    "        maxX = float('-inf') if partitionX == 0 else nums1[partitionX - 1]\n",
    "        minX = float('inf') if partitionX == x else nums1[partitionX]\n",
    "\n",
    "        maxY = float('-inf') if partitionY == 0 else nums2[partitionY - 1]\n",
    "        minY = float('inf') if partitionY == y else nums2[partitionY]\n",
    "\n",
    "        if maxX <= minY and maxY <= minX:\n",
    "            \n",
    "            if (x + y) % 2 == 0:\n",
    "                return (max(maxX, maxY) + min(minX, minY)) / 2.0\n",
    "            else:\n",
    "                return max(maxX, maxY)\n",
    "        elif maxX > minY:\n",
    "            \n",
    "            high = partitionX - 1\n",
    "        else:\n",
    "            \n",
    "            low = partitionX + 1\n"
   ]
  },
  {
   "cell_type": "code",
   "execution_count": 34,
   "id": "d729ef55-6eb2-46cd-adf5-db62281da42a",
   "metadata": {},
   "outputs": [],
   "source": [
    "# Example:\n",
    "nums1 = [1, 3]\n",
    "nums2 = [2]\n",
    "result = findMedianSortedArrays(nums1, nums2)"
   ]
  },
  {
   "cell_type": "code",
   "execution_count": 35,
   "id": "e731130e-6adf-41be-a9a8-97c02773516d",
   "metadata": {},
   "outputs": [
    {
     "name": "stdout",
     "output_type": "stream",
     "text": [
      "2\n"
     ]
    }
   ],
   "source": [
    "print(result)"
   ]
  },
  {
   "cell_type": "code",
   "execution_count": null,
   "id": "d40eddba-01b8-4620-8f05-a589658e96d2",
   "metadata": {},
   "outputs": [],
   "source": []
  },
  {
   "cell_type": "code",
   "execution_count": null,
   "id": "3f6fcfe3-8112-44c4-b3a0-f84ea8d60c3b",
   "metadata": {},
   "outputs": [],
   "source": []
  },
  {
   "cell_type": "markdown",
   "id": "328a3e18-564a-4b37-8d64-4a8e4a0c3851",
   "metadata": {},
   "source": [
    "Problem 21: Given a sorted character array and a target letter, find the smallest letter in the array that is\n",
    "greater than the target.\n",
    "\n",
    "Input: letters = ['c', 'f', 'j'], target = a\n",
    "Output: 'c'"
   ]
  },
  {
   "cell_type": "code",
   "execution_count": 23,
   "id": "6bffc326-3c26-4388-856a-10f9755adedf",
   "metadata": {},
   "outputs": [],
   "source": [
    "def nextGreatestLetter(letters, target):\n",
    "    low, high = 0, len(letters)\n",
    "\n",
    "    while low < high:\n",
    "        mid = low + (high - low) // 2\n",
    "\n",
    "        if letters[mid] <= target:\n",
    "            low = mid + 1\n",
    "        else:\n",
    "            high = mid\n",
    "\n",
    "    return letters[low % len(letters)]\n"
   ]
  },
  {
   "cell_type": "code",
   "execution_count": 24,
   "id": "53572fab-67a2-4a0d-8bd3-37d962eb23ce",
   "metadata": {},
   "outputs": [],
   "source": [
    "# Example:\n",
    "letters = ['c', 'f', 'j']\n",
    "target = 'a'\n",
    "result = nextGreatestLetter(letters, target)"
   ]
  },
  {
   "cell_type": "code",
   "execution_count": 25,
   "id": "d76d6fd8-24e9-4ab0-b60f-f457d9f37c39",
   "metadata": {},
   "outputs": [
    {
     "name": "stdout",
     "output_type": "stream",
     "text": [
      "c\n"
     ]
    }
   ],
   "source": [
    "print(result)"
   ]
  },
  {
   "cell_type": "code",
   "execution_count": null,
   "id": "f9ac06d9-a100-4968-9877-09459a3f44e8",
   "metadata": {},
   "outputs": [],
   "source": []
  },
  {
   "cell_type": "code",
   "execution_count": null,
   "id": "11a95450-279a-4e63-b095-9d404eab6ca6",
   "metadata": {},
   "outputs": [],
   "source": []
  },
  {
   "cell_type": "markdown",
   "id": "6ef6a174-9bc2-465e-a328-6e1629498773",
   "metadata": {},
   "source": [
    "Problem 22: Given an array with n objects colored red, white, or blue, sort them in-place so that objects of\n",
    "the same color are adjacent, with the colors in the order red, white, and blue.\n",
    "\n",
    "Input: nums = [2, 0, 2, 1, 1, 0]\n",
    "Output: [0, 0, 1, 1, 2, 2]"
   ]
  },
  {
   "cell_type": "code",
   "execution_count": 14,
   "id": "89b0613f-ec57-4711-87ca-8988a9fa5b21",
   "metadata": {},
   "outputs": [],
   "source": [
    "def sortColors(nums):\n",
    "   \n",
    "    red, white, blue = 0, 0, len(nums) - 1\n",
    "\n",
    "    while white <= blue:\n",
    "        if nums[white] == 0:\n",
    "            \n",
    "            nums[red], nums[white] = nums[white], nums[red]\n",
    "            red += 1\n",
    "            white += 1\n",
    "        elif nums[white] == 1:\n",
    "            \n",
    "            white += 1\n",
    "        else:\n",
    "            \n",
    "            nums[white], nums[blue] = nums[blue], nums[white]\n",
    "            blue -= 1\n"
   ]
  },
  {
   "cell_type": "code",
   "execution_count": 15,
   "id": "3b27a47c-a2c5-426b-80f3-4773f6a39415",
   "metadata": {},
   "outputs": [],
   "source": [
    "# Example:\n",
    "nums = [2, 0, 2, 1, 1, 0]\n",
    "sortColors(nums)"
   ]
  },
  {
   "cell_type": "code",
   "execution_count": 16,
   "id": "505e230b-3ec1-49b4-b61b-b3cd0e7106b7",
   "metadata": {},
   "outputs": [
    {
     "name": "stdout",
     "output_type": "stream",
     "text": [
      "[0, 0, 1, 1, 2, 2]\n"
     ]
    }
   ],
   "source": [
    "print(nums)"
   ]
  },
  {
   "cell_type": "code",
   "execution_count": null,
   "id": "71048168-5237-437a-b6ef-44f955aa7f99",
   "metadata": {},
   "outputs": [],
   "source": []
  },
  {
   "cell_type": "code",
   "execution_count": null,
   "id": "40744e0a-a417-4433-9846-b60fa076fae8",
   "metadata": {},
   "outputs": [],
   "source": []
  },
  {
   "cell_type": "markdown",
   "id": "f36b737e-a386-41db-8809-d2b9531aaabb",
   "metadata": {},
   "source": [
    "Problem 23: Find the kth largest element in an unsorted array.\n",
    "\n",
    "Input: nums = [3, 2, 1, 5, 6, 4], k = 2\n",
    "Output: 5"
   ]
  },
  {
   "cell_type": "code",
   "execution_count": null,
   "id": "cf080e15-b4ad-4930-8349-6f3dbc96319f",
   "metadata": {},
   "outputs": [],
   "source": [
    "def find_kth_largest(nums, k):\n",
    "    sorted_nums = sorted(nums, reverse=True)\n",
    "    return sorted_nums[k - 1]\n",
    "\n",
    "# Example usage:\n",
    "input_nums = [3, 2, 1, 5, 6, 4]\n",
    "k_value = 2\n",
    "result = find_kth_largest(input_nums, k_value)\n",
    "\n",
    "print(f\"The {k_value}th largest element is: {result}\")\n"
   ]
  },
  {
   "cell_type": "code",
   "execution_count": 53,
   "id": "193047b5-c266-4006-bbec-11c9628e1d22",
   "metadata": {},
   "outputs": [],
   "source": [
    "def find_kth_largest(nums, k):\n",
    "    sorted_nums = sorted(nums, reverse=True)\n",
    "    return sorted_nums[k - 1]\n"
   ]
  },
  {
   "cell_type": "code",
   "execution_count": 54,
   "id": "7f3d1d4e-031f-49cd-a45b-fa5cc8ce6336",
   "metadata": {},
   "outputs": [],
   "source": [
    "# Example:\n",
    "input_nums = [3, 2, 1, 5, 6, 4]\n",
    "k_value = 2\n",
    "result = find_kth_largest(input_nums, k_value)"
   ]
  },
  {
   "cell_type": "code",
   "execution_count": 55,
   "id": "95f24295-54a6-469e-9ced-c8960fc97dcf",
   "metadata": {},
   "outputs": [
    {
     "name": "stdout",
     "output_type": "stream",
     "text": [
      "The 2th largest element is: 5\n"
     ]
    }
   ],
   "source": [
    "print(f\"The {k_value}th largest element is: {result}\")"
   ]
  },
  {
   "cell_type": "code",
   "execution_count": null,
   "id": "ae43e9e4-080a-4e1d-88bc-0259469ab1c2",
   "metadata": {},
   "outputs": [],
   "source": []
  },
  {
   "cell_type": "code",
   "execution_count": null,
   "id": "527fa001-701e-4477-8d69-507b2e3b805b",
   "metadata": {},
   "outputs": [],
   "source": []
  },
  {
   "cell_type": "markdown",
   "id": "8543b7c9-67be-4cb1-8451-e4af96749b54",
   "metadata": {},
   "source": [
    "Problem 24: Given an unsorted array, reorder it in-place such that nums[0] <= nums[1] >= nums[2] <=\n",
    "nums[3]...\n",
    "\n",
    "Input: nums = [3, 5, 2, 1, 6, 4]\n",
    "Output: [3, 5, 1, 6, 2, 4]"
   ]
  },
  {
   "cell_type": "code",
   "execution_count": 50,
   "id": "6e4244b6-061b-4003-a7e0-95707fca38e1",
   "metadata": {},
   "outputs": [],
   "source": [
    "def wiggle_sort(nums):\n",
    "    nums.sort()\n",
    "    \n",
    "    for i in range(1, len(nums) - 1, 2):\n",
    "        nums[i], nums[i + 1] = nums[i + 1], nums[i]\n"
   ]
  },
  {
   "cell_type": "code",
   "execution_count": 51,
   "id": "5228cd51-cd9c-4d98-b4c4-7da7bededb51",
   "metadata": {},
   "outputs": [],
   "source": [
    "# Example:\n",
    "input_nums = [3, 5, 2, 1, 6, 4]\n",
    "wiggle_sort(input_nums)"
   ]
  },
  {
   "cell_type": "code",
   "execution_count": 52,
   "id": "141fc256-e2ac-41fc-a7e9-8baea066180f",
   "metadata": {},
   "outputs": [
    {
     "name": "stdout",
     "output_type": "stream",
     "text": [
      "Reordered array in-place:\n",
      "[1, 3, 2, 5, 4, 6]\n"
     ]
    }
   ],
   "source": [
    "print(\"Reordered array in-place:\")\n",
    "print(input_nums)"
   ]
  },
  {
   "cell_type": "code",
   "execution_count": null,
   "id": "85084e71-8d50-4a49-bbee-fbb04825930d",
   "metadata": {},
   "outputs": [],
   "source": []
  },
  {
   "cell_type": "code",
   "execution_count": null,
   "id": "39941d0c-4bbf-4366-9944-967e9f6d7ea8",
   "metadata": {},
   "outputs": [],
   "source": []
  },
  {
   "cell_type": "markdown",
   "id": "a2684c0a-07d7-4c00-81d6-f7aa4aa4ace1",
   "metadata": {},
   "source": [
    "Problem 25: Given an array of integers, calculate the sum of all its elements.\n",
    "\n",
    "Input: [1, 2, 3, 4, 5]\n",
    "Output: 15"
   ]
  },
  {
   "cell_type": "code",
   "execution_count": 47,
   "id": "76cc2e2f-00b8-4bc7-958b-350fbe01c912",
   "metadata": {},
   "outputs": [],
   "source": [
    "def calculate_array_sum(arr):\n",
    "    array_sum = sum(arr)\n",
    "    return array_sum\n"
   ]
  },
  {
   "cell_type": "code",
   "execution_count": 48,
   "id": "8eaae27a-0efb-4c91-8037-10e104b45a35",
   "metadata": {},
   "outputs": [],
   "source": [
    "# Example:\n",
    "input_array = [1, 2, 3, 4, 5]\n",
    "sum_result = calculate_array_sum(input_array)"
   ]
  },
  {
   "cell_type": "code",
   "execution_count": 49,
   "id": "1c7a570f-1d99-4da2-903d-de0c530d9a23",
   "metadata": {},
   "outputs": [
    {
     "name": "stdout",
     "output_type": "stream",
     "text": [
      "The sum of the array elements is: 15\n"
     ]
    }
   ],
   "source": [
    "print(f\"The sum of the array elements is: {sum_result}\")"
   ]
  },
  {
   "cell_type": "code",
   "execution_count": null,
   "id": "e06b6af1-3406-46b0-8781-9108ab56959a",
   "metadata": {},
   "outputs": [],
   "source": []
  },
  {
   "cell_type": "code",
   "execution_count": null,
   "id": "f65dc05b-14db-4570-b8f0-afa584da9d29",
   "metadata": {},
   "outputs": [],
   "source": []
  },
  {
   "cell_type": "markdown",
   "id": "b9e5a66a-debe-4c64-9815-bfcbafcd997c",
   "metadata": {},
   "source": [
    "Problem 26: Find the maximum element in an array of integers.\n",
    "\n",
    "Input: [3, 7, 2, 9, 4, 1]\n",
    "Output: 9"
   ]
  },
  {
   "cell_type": "code",
   "execution_count": 43,
   "id": "0dd70482-e2d4-45ef-ba84-d27959796982",
   "metadata": {},
   "outputs": [],
   "source": [
    "def find_maximum_element(arr):\n",
    "    if not arr:\n",
    "        return None  \n",
    "\n",
    "    max_element = arr[0]\n",
    "\n",
    "    for element in arr:\n",
    "        if element > max_element:\n",
    "            max_element = element\n",
    "\n",
    "    return max_element\n",
    "\n"
   ]
  },
  {
   "cell_type": "code",
   "execution_count": 45,
   "id": "a649e460-30be-477e-ba2f-1f428de88cd6",
   "metadata": {},
   "outputs": [],
   "source": [
    "# Example:\n",
    "input_array = [3, 7, 2, 9, 4, 1]\n",
    "max_element = find_maximum_element(input_array)"
   ]
  },
  {
   "cell_type": "code",
   "execution_count": 46,
   "id": "c44b8910-6177-43aa-bfb7-ac80b59afe33",
   "metadata": {},
   "outputs": [
    {
     "name": "stdout",
     "output_type": "stream",
     "text": [
      "The maximum element in the array is: 9\n"
     ]
    }
   ],
   "source": [
    "print(f\"The maximum element in the array is: {max_element}\")"
   ]
  },
  {
   "cell_type": "code",
   "execution_count": null,
   "id": "8baeadcc-080f-4f82-a4d6-b7ab5887d551",
   "metadata": {},
   "outputs": [],
   "source": []
  },
  {
   "cell_type": "code",
   "execution_count": null,
   "id": "1c114425-4a19-45be-b312-1e6e34872a62",
   "metadata": {},
   "outputs": [],
   "source": []
  },
  {
   "cell_type": "markdown",
   "id": "0954365c-4bbf-4804-9971-686f367a692e",
   "metadata": {},
   "source": [
    "Problem 27: Implement linear search to find the index of a target element in an array.\n",
    "\n",
    "Input: [5, 3, 8, 2, 7, 4], target = 8\n",
    "Output: 2"
   ]
  },
  {
   "cell_type": "code",
   "execution_count": 35,
   "id": "ea7a5a2a-dd05-4024-9c51-12a3f0fe5fa5",
   "metadata": {},
   "outputs": [],
   "source": [
    "def linear_search(arr, target):\n",
    "    for index, element in enumerate(arr):\n",
    "        if element == target:\n",
    "            return index\n",
    "    return -1  \n"
   ]
  },
  {
   "cell_type": "code",
   "execution_count": 36,
   "id": "f3149b4b-57b3-481d-92bb-02573a9313ac",
   "metadata": {},
   "outputs": [
    {
     "name": "stdout",
     "output_type": "stream",
     "text": [
      "The target element 8 is found at index 2.\n"
     ]
    }
   ],
   "source": [
    "# Example:\n",
    "input_array = [5, 3, 8, 2, 7, 4]\n",
    "target_element = 8\n",
    "result = linear_search(input_array, target_element)\n",
    "\n",
    "if result != -1:\n",
    "    print(f\"The target element {target_element} is found at index {result}.\")\n",
    "else:\n",
    "    print(f\"The target element {target_element} is not found in the array.\")"
   ]
  },
  {
   "cell_type": "code",
   "execution_count": null,
   "id": "60bc0f50-c140-444e-84cc-0faded405479",
   "metadata": {},
   "outputs": [],
   "source": []
  },
  {
   "cell_type": "code",
   "execution_count": null,
   "id": "e3965ae9-2a2a-4db2-917b-f71d1c5e7300",
   "metadata": {},
   "outputs": [],
   "source": []
  },
  {
   "cell_type": "markdown",
   "id": "299c4711-694b-4c41-a6fa-069e8d068f9e",
   "metadata": {},
   "source": [
    "Problem 28 Calculate the factorial of a given number.\n",
    "\n",
    "Input: 5\n",
    "Output: 120 (as 5! = 5 * 4 * 3 * 2 * 1 = 120)"
   ]
  },
  {
   "cell_type": "code",
   "execution_count": 32,
   "id": "205db40c-36d6-4096-a5a6-6a303dc257ca",
   "metadata": {},
   "outputs": [],
   "source": [
    "def factorial(n):\n",
    "    if n == 0 or n == 1:\n",
    "        return 1\n",
    "    else:\n",
    "        return n * factorial(n - 1)\n"
   ]
  },
  {
   "cell_type": "code",
   "execution_count": 33,
   "id": "81b66915-fba0-4fbb-bb56-b18751d1c3ac",
   "metadata": {},
   "outputs": [],
   "source": [
    "# Example:\n",
    "input_number = 5\n",
    "result = factorial(input_number)"
   ]
  },
  {
   "cell_type": "code",
   "execution_count": 34,
   "id": "9de45856-6888-4c5c-9acd-3d2dc7c80a71",
   "metadata": {},
   "outputs": [
    {
     "name": "stdout",
     "output_type": "stream",
     "text": [
      "The factorial of 5 is: 120\n"
     ]
    }
   ],
   "source": [
    "print(f\"The factorial of {input_number} is: {result}\")"
   ]
  },
  {
   "cell_type": "code",
   "execution_count": null,
   "id": "af8ab7c1-7947-4b5c-8e4f-d9128086e24c",
   "metadata": {},
   "outputs": [],
   "source": []
  },
  {
   "cell_type": "code",
   "execution_count": null,
   "id": "456db35f-c951-4db5-b54d-7e5f9013408b",
   "metadata": {},
   "outputs": [],
   "source": []
  },
  {
   "cell_type": "markdown",
   "id": "eac0056a-a0ff-4747-ba17-7e1026842d8f",
   "metadata": {},
   "source": [
    "Problem 29: Check if a given number is a prime number.\n",
    "\n",
    "Input: 7\n",
    "Output: True"
   ]
  },
  {
   "cell_type": "code",
   "execution_count": 23,
   "id": "a82446b9-5cff-4ef4-aebc-9f27958e3432",
   "metadata": {},
   "outputs": [],
   "source": [
    "def is_prime(number):\n",
    "    if number <= 1:\n",
    "        return False\n",
    "    elif number == 2:\n",
    "        return True\n",
    "    elif number % 2 == 0:\n",
    "        return False\n",
    "    else:\n",
    "        \n",
    "        for i in range(3, int(number**0.5) + 1, 2):\n",
    "            if number % i == 0:\n",
    "                return False\n",
    "        return True\n"
   ]
  },
  {
   "cell_type": "code",
   "execution_count": 24,
   "id": "53f549e2-8032-4fa1-bdd9-40ffba9e0400",
   "metadata": {},
   "outputs": [],
   "source": [
    "# Example:\n",
    "input_number = 7\n",
    "result = is_prime(input_number)"
   ]
  },
  {
   "cell_type": "code",
   "execution_count": 25,
   "id": "834e7fa9-6021-414c-abf2-2fb43428714a",
   "metadata": {},
   "outputs": [
    {
     "name": "stdout",
     "output_type": "stream",
     "text": [
      "Is 7 a prime number? True\n"
     ]
    }
   ],
   "source": [
    "print(f\"Is {input_number} a prime number? {result}\")"
   ]
  },
  {
   "cell_type": "code",
   "execution_count": null,
   "id": "cd2b9860-31b7-4b47-81e0-c90b81c6c3f4",
   "metadata": {},
   "outputs": [],
   "source": []
  },
  {
   "cell_type": "code",
   "execution_count": null,
   "id": "f11ab526-3b59-49e9-b364-29262ffe12e7",
   "metadata": {},
   "outputs": [],
   "source": []
  },
  {
   "cell_type": "markdown",
   "id": "35aa5b5c-24f5-4cbf-8b1f-d23dc263b14b",
   "metadata": {},
   "source": [
    "Problem 30: Generate the Fibonacci series up to a given number n.\n",
    "\n",
    "Input: 8\n",
    "Output: [0, 1, 1, 2, 3, 5, 8, 13]"
   ]
  },
  {
   "cell_type": "code",
   "execution_count": 19,
   "id": "2d80e943-5a47-43cd-9ffc-505b8ad85007",
   "metadata": {},
   "outputs": [],
   "source": [
    "def generate_fibonacci(n):\n",
    "    fibonacci_series = [0, 1]\n",
    "\n",
    "    while fibonacci_series[-1] + fibonacci_series[-2] <= n:\n",
    "        next_fibonacci = fibonacci_series[-1] + fibonacci_series[-2]\n",
    "        fibonacci_series.append(next_fibonacci)\n",
    "\n",
    "    return fibonacci_series\n"
   ]
  },
  {
   "cell_type": "code",
   "execution_count": 21,
   "id": "e6a1f0fc-7df1-422c-8954-2bc896ee566f",
   "metadata": {},
   "outputs": [],
   "source": [
    "# Example:\n",
    "n = 8\n",
    "fibonacci_result = generate_fibonacci(n)"
   ]
  },
  {
   "cell_type": "code",
   "execution_count": 22,
   "id": "5321b330-4db6-4e12-ac18-76ff5a544b6f",
   "metadata": {},
   "outputs": [
    {
     "name": "stdout",
     "output_type": "stream",
     "text": [
      "Fibonacci series up to 8: [0, 1, 1, 2, 3, 5, 8]\n"
     ]
    }
   ],
   "source": [
    "print(f\"Fibonacci series up to {n}: {fibonacci_result}\")"
   ]
  },
  {
   "cell_type": "code",
   "execution_count": null,
   "id": "6093b027-151c-4aaa-a696-7f1c451f2a8d",
   "metadata": {},
   "outputs": [],
   "source": []
  },
  {
   "cell_type": "code",
   "execution_count": null,
   "id": "88168049-9928-4112-beea-095cecb5bf26",
   "metadata": {},
   "outputs": [],
   "source": []
  },
  {
   "cell_type": "markdown",
   "id": "f6ca7a8f-f5f7-4c7e-b9f1-65a6d6f4a69b",
   "metadata": {},
   "source": [
    "Problem 31: Calculate the power of a number using recursion.\n",
    "\n",
    "Input: base = 3, exponent = 4\n",
    "Output: 81 (as 3^4 = 3 * 3 * 3 * 3 = 81)"
   ]
  },
  {
   "cell_type": "code",
   "execution_count": 10,
   "id": "46f8297a-1026-4da2-8de8-0b6245ca6275",
   "metadata": {},
   "outputs": [],
   "source": [
    "def power(base, exponent):\n",
    "    \n",
    "    if exponent == 0:\n",
    "        return 1\n",
    "    \n",
    "    else:\n",
    "        return base * power(base, exponent - 1)\n"
   ]
  },
  {
   "cell_type": "code",
   "execution_count": 11,
   "id": "cb886fc1-92bd-4322-bc4d-80e410e47dbc",
   "metadata": {},
   "outputs": [],
   "source": [
    "base = 3\n",
    "exponent = 4\n",
    "result = power(base, exponent)"
   ]
  },
  {
   "cell_type": "code",
   "execution_count": 12,
   "id": "aadb52c0-1fc9-4046-b83e-ecefdeb9d58b",
   "metadata": {},
   "outputs": [
    {
     "name": "stdout",
     "output_type": "stream",
     "text": [
      "3^4 = 81\n"
     ]
    }
   ],
   "source": [
    "print(f\"{base}^{exponent} =\", result)"
   ]
  },
  {
   "cell_type": "code",
   "execution_count": null,
   "id": "fd5d79f9-b821-4b15-9b43-999b8830afe7",
   "metadata": {},
   "outputs": [],
   "source": []
  },
  {
   "cell_type": "code",
   "execution_count": null,
   "id": "28d981ba-bc61-4625-97bc-7388bab2aee6",
   "metadata": {},
   "outputs": [],
   "source": []
  },
  {
   "cell_type": "markdown",
   "id": "c99979a9-ce0b-4a61-bc9a-accc3d52a32c",
   "metadata": {},
   "source": [
    "Problem 32: Reverse a given string.\n",
    "\n",
    "Input: \"hello\"\n",
    "Output: \"olleh\""
   ]
  },
  {
   "cell_type": "code",
   "execution_count": 4,
   "id": "6bb7f6d8-8ca5-4962-8baa-e9f28a88f766",
   "metadata": {},
   "outputs": [],
   "source": [
    "def reverse_string(input_str):\n",
    "    return input_str[::-1]\n"
   ]
  },
  {
   "cell_type": "code",
   "execution_count": 5,
   "id": "8a969e2e-aa90-42cc-b311-24372c2df881",
   "metadata": {},
   "outputs": [],
   "source": [
    "input_string = \"hello\"\n",
    "output_string = reverse_string(input_string)"
   ]
  },
  {
   "cell_type": "code",
   "execution_count": 6,
   "id": "8e6e09cd-75cb-4bd7-9bc4-17d77594e21e",
   "metadata": {},
   "outputs": [
    {
     "name": "stdout",
     "output_type": "stream",
     "text": [
      "olleh\n"
     ]
    }
   ],
   "source": [
    "print(output_string)"
   ]
  },
  {
   "cell_type": "code",
   "execution_count": null,
   "id": "60fa276a-e997-4f42-9848-024cda59c6b1",
   "metadata": {},
   "outputs": [],
   "source": []
  }
 ],
 "metadata": {
  "kernelspec": {
   "display_name": "Python 3 (ipykernel)",
   "language": "python",
   "name": "python3"
  },
  "language_info": {
   "codemirror_mode": {
    "name": "ipython",
    "version": 3
   },
   "file_extension": ".py",
   "mimetype": "text/x-python",
   "name": "python",
   "nbconvert_exporter": "python",
   "pygments_lexer": "ipython3",
   "version": "3.10.8"
  }
 },
 "nbformat": 4,
 "nbformat_minor": 5
}
