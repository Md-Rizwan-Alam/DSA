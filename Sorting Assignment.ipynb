{
 "cells": [
  {
   "cell_type": "markdown",
   "id": "7f9b3bca-bf20-4600-9cd1-32fc2926a2e1",
   "metadata": {},
   "source": [
    "Problem 1.Given an array of n numbers, give an algorithm which gives the element appearing maximum\n",
    "number of times?"
   ]
  },
  {
   "cell_type": "code",
   "execution_count": 6,
   "id": "8c72d957-ca4a-44e0-b606-bda7e9698384",
   "metadata": {},
   "outputs": [],
   "source": [
    "#Answer\n",
    "\n",
    "\n",
    "def find_most_frequent_element(arr):\n",
    "    frequency_dict = {}\n",
    "    \n",
    "    for num in arr:\n",
    "        if num in frequency_dict:\n",
    "            frequency_dict[num] += 1\n",
    "        else:\n",
    "            frequency_dict[num] = 1\n",
    "    \n",
    "    max_frequency = 0\n",
    "    most_frequent_element = None\n",
    "    \n",
    "    for num, frequency in frequency_dict.items():\n",
    "        if frequency > max_frequency:\n",
    "            max_frequency = frequency\n",
    "            most_frequent_element = num\n",
    "    \n",
    "    return most_frequent_element\n",
    "\n"
   ]
  },
  {
   "cell_type": "code",
   "execution_count": 3,
   "id": "71e6e9f1-3df2-4a21-aa92-dba5547db06a",
   "metadata": {},
   "outputs": [],
   "source": [
    "# Example usage:\n",
    "arr = [1, 2, 3, 4, 2, 2, 3, 1, 5, 2]"
   ]
  },
  {
   "cell_type": "code",
   "execution_count": 4,
   "id": "99dffc89-3d62-464a-902c-1dda13a2989a",
   "metadata": {},
   "outputs": [],
   "source": [
    "result = find_most_frequent_element(arr)"
   ]
  },
  {
   "cell_type": "code",
   "execution_count": 5,
   "id": "b24653e0-fd82-44b9-834d-bc8a514716df",
   "metadata": {},
   "outputs": [
    {
     "name": "stdout",
     "output_type": "stream",
     "text": [
      "The element appearing the maximum number of times is: 2\n"
     ]
    }
   ],
   "source": [
    "print(\"The element appearing the maximum number of times is:\", result)"
   ]
  },
  {
   "cell_type": "code",
   "execution_count": null,
   "id": "37a9886c-27e1-40d2-a0c5-50566335d540",
   "metadata": {},
   "outputs": [],
   "source": []
  },
  {
   "cell_type": "code",
   "execution_count": null,
   "id": "77472c2c-c2e5-4b1c-bb51-4f7034329d7f",
   "metadata": {},
   "outputs": [],
   "source": []
  },
  {
   "cell_type": "markdown",
   "id": "f5427443-d31f-4499-8491-594c6e3a0e95",
   "metadata": {},
   "source": [
    "Problem 2 : We are given a list of n-1 integers and these integers are in the range of 1 to n . There are no\n",
    "duplicates in the list. One of the integers is missing in the list. Give an algorithm to find that element Ex:\n",
    "[1,2,4,6,3,7,8] 5 is the missing num."
   ]
  },
  {
   "cell_type": "code",
   "execution_count": 15,
   "id": "cd5bf832-4d90-4018-8084-8867cd68ccb7",
   "metadata": {},
   "outputs": [],
   "source": [
    "#Answer\n",
    "\n",
    "\n",
    "def find_missing_element(nums):\n",
    "    n = len(nums) + 1 \n",
    "    expected_sum = n * (n + 1) // 2  \n",
    "    \n",
    "    actual_sum = sum(nums)  \n",
    "    \n",
    "    missing_element = expected_sum - actual_sum\n",
    "    return missing_element\n",
    "\n"
   ]
  },
  {
   "cell_type": "code",
   "execution_count": 17,
   "id": "6d343736-da0d-4917-804c-f61104710f14",
   "metadata": {},
   "outputs": [],
   "source": [
    "# Example "
   ]
  },
  {
   "cell_type": "code",
   "execution_count": 16,
   "id": "745f1d79-a0a7-41a8-a76d-572dc4d7cacc",
   "metadata": {},
   "outputs": [
    {
     "name": "stdout",
     "output_type": "stream",
     "text": [
      "The missing element is: 5\n"
     ]
    }
   ],
   "source": [
    "nums = [1, 2, 4, 6, 3, 7, 8]\n",
    "result = find_missing_element(nums)\n",
    "print(\"The missing element is:\", result)"
   ]
  },
  {
   "cell_type": "code",
   "execution_count": null,
   "id": "72c82d7c-2914-452a-9875-e8fab53ee19b",
   "metadata": {},
   "outputs": [],
   "source": []
  },
  {
   "cell_type": "code",
   "execution_count": null,
   "id": "2cb51019-b677-4f32-836b-e7ecde39f019",
   "metadata": {},
   "outputs": [],
   "source": []
  },
  {
   "cell_type": "markdown",
   "id": "6a12ffc9-a2c0-4e30-ab84-06ad6df4ad81",
   "metadata": {},
   "source": [
    "Problem 3 : Given an array of n positive numbers. All numbers occurs even number of times except 1 which\n",
    "occurs odd number of times. Find that number in O(n) time and O(1) space. Ex: [1,2,3,2,3,1,3]. 3 is repeats odd\n",
    "times."
   ]
  },
  {
   "cell_type": "code",
   "execution_count": null,
   "id": "68865dc1-f8b6-430f-9419-39d8c516711e",
   "metadata": {},
   "outputs": [],
   "source": []
  },
  {
   "cell_type": "code",
   "execution_count": 23,
   "id": "4f1dcb7b-1a8b-4e5b-b200-879ceed5b5eb",
   "metadata": {},
   "outputs": [],
   "source": [
    "#Answer\n",
    "\n",
    "\n",
    "def find_odd_occurrence(arr):\n",
    "    result = 0\n",
    "    \n",
    "    \n",
    "    for num in arr:\n",
    "        result ^= num\n",
    "    \n",
    "    return result\n",
    "\n"
   ]
  },
  {
   "cell_type": "code",
   "execution_count": 24,
   "id": "f19a2737-1201-4557-9065-e607de66db6b",
   "metadata": {},
   "outputs": [],
   "source": [
    "# Example usage:"
   ]
  },
  {
   "cell_type": "code",
   "execution_count": 25,
   "id": "2c9803bc-18b2-4cda-b991-2f64d4ddf061",
   "metadata": {},
   "outputs": [],
   "source": [
    "arr = [1, 2, 3, 2, 3, 1, 3]"
   ]
  },
  {
   "cell_type": "code",
   "execution_count": 26,
   "id": "4c659bd9-0ff2-4441-86e8-2aff7618ec68",
   "metadata": {},
   "outputs": [],
   "source": [
    "result = find_odd_occurrence(arr)"
   ]
  },
  {
   "cell_type": "code",
   "execution_count": 27,
   "id": "a6bbd93a-7852-4f82-8b9e-3cd895b3adbb",
   "metadata": {},
   "outputs": [
    {
     "name": "stdout",
     "output_type": "stream",
     "text": [
      "The number occurring odd number of times is: 3\n"
     ]
    }
   ],
   "source": [
    "print(\"The number occurring odd number of times is:\", result)"
   ]
  },
  {
   "cell_type": "code",
   "execution_count": null,
   "id": "b5a0c785-82f9-4654-9c1c-0f398e29388c",
   "metadata": {},
   "outputs": [],
   "source": []
  },
  {
   "cell_type": "code",
   "execution_count": null,
   "id": "162f9dd4-947b-4868-996a-be601a56f643",
   "metadata": {},
   "outputs": [],
   "source": []
  },
  {
   "cell_type": "markdown",
   "id": "df9327bb-0556-4d0d-bbc4-80847f0cc5da",
   "metadata": {},
   "source": [
    "Problem 4 : Given an array of n elements. Find two elements in the array such that their sum is equal to given\n",
    "element K."
   ]
  },
  {
   "cell_type": "code",
   "execution_count": 28,
   "id": "d4e3831a-e146-4425-8f0e-2c72b445bafe",
   "metadata": {},
   "outputs": [],
   "source": [
    "#Answer\n",
    "\n",
    "\n",
    "def find_pair_with_sum(arr, target_sum):\n",
    "    visited = set()\n",
    "\n",
    "    for num in arr:\n",
    "        complement = target_sum - num\n",
    "\n",
    "        if complement in visited:\n",
    "            return (num, complement)  # Found a pair\n",
    "\n",
    "        visited.add(num)\n",
    "\n",
    "    return None\n"
   ]
  },
  {
   "cell_type": "code",
   "execution_count": 29,
   "id": "5d6ee656-cd2e-46a3-9a3d-bf6e2d1f5092",
   "metadata": {},
   "outputs": [],
   "source": [
    "# Example usage:"
   ]
  },
  {
   "cell_type": "code",
   "execution_count": 30,
   "id": "452afb06-28ce-448b-a93c-77bda15d0f15",
   "metadata": {},
   "outputs": [],
   "source": [
    "arr = [1, 2, 4, 6, 3, 7, 8]"
   ]
  },
  {
   "cell_type": "code",
   "execution_count": 31,
   "id": "61f5104d-2d0e-4d35-b8e2-4b63b793f350",
   "metadata": {},
   "outputs": [
    {
     "name": "stdout",
     "output_type": "stream",
     "text": [
      "The pair with sum 10 is: (6, 4)\n"
     ]
    }
   ],
   "source": [
    "target_sum = 10\n",
    "result = find_pair_with_sum(arr, target_sum)\n",
    "\n",
    "if result:\n",
    "    print(f\"The pair with sum {target_sum} is:\", result)\n",
    "else:\n",
    "    print(\"No such pair found.\")"
   ]
  },
  {
   "cell_type": "code",
   "execution_count": null,
   "id": "f82ca0a4-5853-4a83-bd55-7146ad3c5450",
   "metadata": {},
   "outputs": [],
   "source": []
  },
  {
   "cell_type": "code",
   "execution_count": null,
   "id": "7ef316e3-1393-47de-89c3-5378fb096c46",
   "metadata": {},
   "outputs": [],
   "source": []
  },
  {
   "cell_type": "markdown",
   "id": "512306dd-ee00-4af9-b9ca-d76784626af4",
   "metadata": {},
   "source": [
    "Problem 5 : Given an array of both positive and negative numbers, find two numbers such that their sum is\n",
    "closest to 0. Ex: [ 1 ,60 ,-10, 70, -80,85]. Ans : -80,85."
   ]
  },
  {
   "cell_type": "code",
   "execution_count": 32,
   "id": "4e99d164-3764-4ac0-b8bc-7cb15221e8ca",
   "metadata": {},
   "outputs": [],
   "source": [
    "#Answer\n",
    "\n",
    "\n",
    "\n",
    "def closest_sum_pair(arr):\n",
    "    arr.sort()\n",
    "\n",
    "    closest_sum = float('inf')\n",
    "    closest_pair = None\n",
    "\n",
    "    left, right = 0, len(arr) - 1\n",
    "    while left < right:\n",
    "        current_sum = arr[left] + arr[right]\n",
    "\n",
    "        if abs(current_sum) < abs(closest_sum):\n",
    "            closest_sum = current_sum\n",
    "            closest_pair = (arr[left], arr[right])\n",
    "\n",
    "        if current_sum < 0:\n",
    "            left += 1\n",
    "        else:\n",
    "            right -= 1\n",
    "\n",
    "    return closest_pair\n"
   ]
  },
  {
   "cell_type": "code",
   "execution_count": 33,
   "id": "7307b89b-2da8-4bad-8b2d-bb2e945a6fbe",
   "metadata": {},
   "outputs": [],
   "source": [
    "# Example usage:"
   ]
  },
  {
   "cell_type": "code",
   "execution_count": 34,
   "id": "089d26fe-79f5-40fd-893f-b95ab6cbf240",
   "metadata": {},
   "outputs": [],
   "source": [
    "arr = [1, 60, -10, 70, -80, 85]"
   ]
  },
  {
   "cell_type": "code",
   "execution_count": 35,
   "id": "0b928c6b-78ca-45ec-9ad0-dfd25b9245d0",
   "metadata": {},
   "outputs": [
    {
     "name": "stdout",
     "output_type": "stream",
     "text": [
      "The pair with the closest sum to zero is: (-80, 85)\n"
     ]
    }
   ],
   "source": [
    "result = closest_sum_pair(arr)\n",
    "print(\"The pair with the closest sum to zero is:\", result)"
   ]
  },
  {
   "cell_type": "code",
   "execution_count": null,
   "id": "8d2f3717-1f0f-4bc2-804e-ec712e669be4",
   "metadata": {},
   "outputs": [],
   "source": []
  },
  {
   "cell_type": "code",
   "execution_count": null,
   "id": "8fffff15-3184-42b5-98e6-b1571023f212",
   "metadata": {},
   "outputs": [],
   "source": []
  },
  {
   "cell_type": "code",
   "execution_count": null,
   "id": "c70c0db1-33b6-4b5a-8e76-29ea8abb7e4e",
   "metadata": {},
   "outputs": [],
   "source": []
  },
  {
   "cell_type": "markdown",
   "id": "da3c0a6c-4636-4118-91ea-d059871eb2ae",
   "metadata": {},
   "source": [
    "Problem 6 : Given an array of n elements . Find three elements such that their sum is equal to the given\n",
    "number."
   ]
  },
  {
   "cell_type": "code",
   "execution_count": 36,
   "id": "189373fd-3899-4a48-a167-a861901ca66d",
   "metadata": {},
   "outputs": [],
   "source": [
    "#Answer\n",
    "\n",
    "\n",
    "\n",
    "def find_three_elements_with_sum(arr, target_sum):\n",
    "    arr.sort()\n",
    "\n",
    "    for i in range(len(arr) - 2):\n",
    "        left, right = i + 1, len(arr) - 1\n",
    "        while left < right:\n",
    "            current_sum = arr[i] + arr[left] + arr[right]\n",
    "\n",
    "            if current_sum == target_sum:\n",
    "                return (arr[i], arr[left], arr[right])  \n",
    "            elif current_sum < target_sum:\n",
    "                left += 1\n",
    "            else:\n",
    "                right -= 1\n",
    "\n",
    "    return None  \n"
   ]
  },
  {
   "cell_type": "code",
   "execution_count": 37,
   "id": "35e19c21-e4a0-4d3f-9d57-7ae7790f698b",
   "metadata": {},
   "outputs": [],
   "source": [
    "# Example usage:"
   ]
  },
  {
   "cell_type": "code",
   "execution_count": 38,
   "id": "d9eb2f50-a955-43bc-9aa5-32cc4e54611c",
   "metadata": {},
   "outputs": [],
   "source": [
    "arr = [1, 4, 2, 8, 3, 7, 9]"
   ]
  },
  {
   "cell_type": "code",
   "execution_count": 39,
   "id": "dfc87943-3fef-4371-9507-27cc7dc38032",
   "metadata": {},
   "outputs": [
    {
     "name": "stdout",
     "output_type": "stream",
     "text": [
      "The triplet with sum 20 is: (3, 8, 9)\n"
     ]
    }
   ],
   "source": [
    "target_sum = 20\n",
    "result = find_three_elements_with_sum(arr, target_sum)\n",
    "\n",
    "if result:\n",
    "    print(f\"The triplet with sum {target_sum} is:\", result)\n",
    "else:\n",
    "    print(\"No such triplet found.\")"
   ]
  },
  {
   "cell_type": "code",
   "execution_count": null,
   "id": "f19253d1-f7aa-4922-8132-983116b5d6c1",
   "metadata": {},
   "outputs": [],
   "source": []
  },
  {
   "cell_type": "code",
   "execution_count": null,
   "id": "9a87464f-4f80-4758-9138-8be44a445177",
   "metadata": {},
   "outputs": [],
   "source": []
  },
  {
   "cell_type": "markdown",
   "id": "21d6fcdb-a415-4102-93ec-7fcfdb99cf3e",
   "metadata": {},
   "source": [
    "Problem 7 : Given an array of n elements . Find three elements i, j, k in the array such that\n",
    "i * i + j * j = k*k."
   ]
  },
  {
   "cell_type": "code",
   "execution_count": 47,
   "id": "97fe0bb2-865f-4999-a7cd-d3fc7e7b0c7d",
   "metadata": {},
   "outputs": [],
   "source": [
    "#Answer\n",
    "\n",
    "def find_pythagorean_triplet(arr):\n",
    "    squared_arr = [x*x for x in arr]  \n",
    "    squared_arr.sort()\n",
    "\n",
    "    for k in range(len(squared_arr) - 1, 1, -1):\n",
    "        left, right = 0, k - 1\n",
    "        while left < right:\n",
    "            current_sum = squared_arr[left] + squared_arr[right]\n",
    "\n",
    "            if current_sum == squared_arr[k]:\n",
    "                return (arr[left], arr[right], arr[k])  \n",
    "            elif current_sum < squared_arr[k]:\n",
    "                left += 1\n",
    "            else:\n",
    "                right -= 1\n",
    "\n",
    "    return None  \n"
   ]
  },
  {
   "cell_type": "code",
   "execution_count": 48,
   "id": "e8b807a7-f5e3-41da-a92b-f7d16c25ee6f",
   "metadata": {},
   "outputs": [],
   "source": [
    "# Example usage:"
   ]
  },
  {
   "cell_type": "code",
   "execution_count": 49,
   "id": "a80880b2-e61d-4a23-87e9-9dde93c24568",
   "metadata": {},
   "outputs": [],
   "source": [
    "arr = [3, 1, 4, 6, 5]"
   ]
  },
  {
   "cell_type": "code",
   "execution_count": 50,
   "id": "7f903f43-78e0-421f-89a7-6a18303b1bd1",
   "metadata": {},
   "outputs": [
    {
     "name": "stdout",
     "output_type": "stream",
     "text": [
      "The Pythagorean triplet is: (1, 4, 6)\n"
     ]
    }
   ],
   "source": [
    "result = find_pythagorean_triplet(arr)\n",
    "\n",
    "if result:\n",
    "    print(\"The Pythagorean triplet is:\", result)\n",
    "else:\n",
    "    print(\"No such triplet found.\")"
   ]
  },
  {
   "cell_type": "code",
   "execution_count": null,
   "id": "ae1467ec-2bfc-48cd-904b-06029a62b29a",
   "metadata": {},
   "outputs": [],
   "source": []
  },
  {
   "cell_type": "code",
   "execution_count": null,
   "id": "54066915-fdcf-458c-a6c4-7a8a3478e30b",
   "metadata": {},
   "outputs": [],
   "source": []
  },
  {
   "cell_type": "markdown",
   "id": "bcfc8847-75bb-43cc-9ee0-78cc2125e536",
   "metadata": {},
   "source": [
    "Problem 8 : An element is a majority if it appears more than n/2 times. Give an algorithm takes an array of n\n",
    "element as argument and identifies a majority (if it exists).\n"
   ]
  },
  {
   "cell_type": "code",
   "execution_count": 51,
   "id": "aaf936d8-8f27-4d54-a577-d1f24f4052c5",
   "metadata": {},
   "outputs": [],
   "source": [
    "#Answer\n",
    "\n",
    "\n",
    "def find_majority_element(arr):\n",
    "    candidate = None\n",
    "    count = 0\n",
    "\n",
    "    for num in arr:\n",
    "        if count == 0:\n",
    "            candidate = num\n",
    "            count = 1\n",
    "        elif candidate == num:\n",
    "            count += 1\n",
    "        else:\n",
    "            count -= 1\n",
    "\n",
    "    count = 0\n",
    "    for num in arr:\n",
    "        if num == candidate:\n",
    "            count += 1\n",
    "\n",
    "    if count > len(arr) // 2:\n",
    "        return candidate\n",
    "    else:\n",
    "        return None  \n"
   ]
  },
  {
   "cell_type": "code",
   "execution_count": 52,
   "id": "02abf199-7b24-4324-9bbf-dbab76f53c66",
   "metadata": {},
   "outputs": [],
   "source": [
    "# Example usage:"
   ]
  },
  {
   "cell_type": "code",
   "execution_count": 53,
   "id": "29e6e01b-c668-4383-a0c9-a1a5dd50025b",
   "metadata": {},
   "outputs": [],
   "source": [
    "arr = [3, 3, 4, 2, 4, 4, 2, 4, 4]"
   ]
  },
  {
   "cell_type": "code",
   "execution_count": 54,
   "id": "8fb4cd4b-82a6-4b99-b9b2-092df781afc1",
   "metadata": {},
   "outputs": [
    {
     "name": "stdout",
     "output_type": "stream",
     "text": [
      "The majority element is: 4\n"
     ]
    }
   ],
   "source": [
    "result = find_majority_element(arr)\n",
    "\n",
    "if result is not None:\n",
    "    print(\"The majority element is:\", result)\n",
    "else:\n",
    "    print(\"No majority element found.\")"
   ]
  },
  {
   "cell_type": "code",
   "execution_count": null,
   "id": "14d45770-0369-4aaf-90ef-087ec36a6435",
   "metadata": {},
   "outputs": [],
   "source": []
  },
  {
   "cell_type": "code",
   "execution_count": null,
   "id": "24edf66f-7699-4a76-8866-6ebe0f746a71",
   "metadata": {},
   "outputs": [],
   "source": []
  },
  {
   "cell_type": "markdown",
   "id": "c16ec578-95d4-40f0-b8a3-fd6cd301e1e9",
   "metadata": {},
   "source": [
    "Problem 9 : Given n × n matrix, and in each row all 1’s are followed by 0’s. Find the row with the maximum\n",
    "number of 0’s."
   ]
  },
  {
   "cell_type": "code",
   "execution_count": 55,
   "id": "3f775bfe-ec6c-40de-94a1-18ede1c7f806",
   "metadata": {},
   "outputs": [],
   "source": [
    "#Answer\n",
    "\n",
    "\n",
    "def find_row_with_max_zeros(matrix):\n",
    "    max_zeros_row = -1\n",
    "    max_zeros_count = -1\n",
    "\n",
    "    n = len(matrix)\n",
    "\n",
    "    for i in range(n):\n",
    "        zeros_count = matrix[i].count(0)\n",
    "\n",
    "        if zeros_count > max_zeros_count:\n",
    "            max_zeros_count = zeros_count\n",
    "            max_zeros_row = i\n",
    "\n",
    "    return max_zeros_row\n",
    "\n"
   ]
  },
  {
   "cell_type": "code",
   "execution_count": 56,
   "id": "00101f3f-a9b8-4f3c-88f1-ba24535e7575",
   "metadata": {},
   "outputs": [],
   "source": [
    "# Example usage:"
   ]
  },
  {
   "cell_type": "code",
   "execution_count": 57,
   "id": "835c065f-406e-441b-9ef4-76e551be4c62",
   "metadata": {},
   "outputs": [],
   "source": [
    "matrix = [\n",
    "    [1, 1, 1, 0, 0],\n",
    "    [1, 1, 0, 0, 0],\n",
    "    [1, 1, 1, 1, 0],\n",
    "    [1, 1, 0, 0, 0],\n",
    "    [1, 1, 1, 0, 0]\n",
    "]\n",
    "\n"
   ]
  },
  {
   "cell_type": "code",
   "execution_count": 58,
   "id": "f089c843-65ff-49fc-b266-21e7ff2f5b19",
   "metadata": {},
   "outputs": [
    {
     "name": "stdout",
     "output_type": "stream",
     "text": [
      "The row with the maximum number of 0's is: Row 2\n"
     ]
    }
   ],
   "source": [
    "result = find_row_with_max_zeros(matrix)\n",
    "\n",
    "if result != -1:\n",
    "    print(f\"The row with the maximum number of 0's is: Row {result + 1}\")\n",
    "else:\n",
    "    print(\"Matrix is empty.\")"
   ]
  },
  {
   "cell_type": "code",
   "execution_count": null,
   "id": "2a0bd6f6-6932-4a4d-a95c-f0fb41ff5a5c",
   "metadata": {},
   "outputs": [],
   "source": []
  },
  {
   "cell_type": "code",
   "execution_count": null,
   "id": "1943379b-9e2f-49e9-a2b5-b5a588c1436a",
   "metadata": {},
   "outputs": [],
   "source": []
  },
  {
   "cell_type": "code",
   "execution_count": null,
   "id": "36171c5a-469b-4fb8-b625-421e278641bb",
   "metadata": {},
   "outputs": [],
   "source": []
  },
  {
   "cell_type": "code",
   "execution_count": null,
   "id": "a4413465-025c-44b2-bb08-e242e3bc7593",
   "metadata": {},
   "outputs": [],
   "source": []
  },
  {
   "cell_type": "code",
   "execution_count": null,
   "id": "b56b9fed-b426-407f-b87c-764e4d9c04dc",
   "metadata": {},
   "outputs": [],
   "source": []
  },
  {
   "cell_type": "code",
   "execution_count": null,
   "id": "3b16a90a-6032-45df-8bc8-5d7e4c876226",
   "metadata": {},
   "outputs": [],
   "source": []
  }
 ],
 "metadata": {
  "kernelspec": {
   "display_name": "Python 3 (ipykernel)",
   "language": "python",
   "name": "python3"
  },
  "language_info": {
   "codemirror_mode": {
    "name": "ipython",
    "version": 3
   },
   "file_extension": ".py",
   "mimetype": "text/x-python",
   "name": "python",
   "nbconvert_exporter": "python",
   "pygments_lexer": "ipython3",
   "version": "3.10.8"
  }
 },
 "nbformat": 4,
 "nbformat_minor": 5
}
