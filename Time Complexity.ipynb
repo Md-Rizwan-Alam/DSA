{
 "cells": [
  {
   "cell_type": "markdown",
   "id": "07c739e6-6c8e-4d46-927c-f840f61f0ec6",
   "metadata": {},
   "source": [
    "Find time complexity of below code blocks :"
   ]
  },
  {
   "cell_type": "code",
   "execution_count": 5,
   "id": "5a1be9d4-eb40-494f-beb7-687fa86388bf",
   "metadata": {},
   "outputs": [],
   "source": [
    "#Problem 1 :\n",
    "\n",
    "def quicksort(arr):\n",
    "    \n",
    "    if len(arr) <= 1:\n",
    "        return arr\n",
    "    \n",
    "    \n",
    "    pivot = arr[len(arr) // 2]\n",
    "    \n",
    "    \n",
    "    left = [x for x in arr if x < pivot]\n",
    "    middle = [x for x in arr if x == pivot]\n",
    "    right = [x for x in arr if x > pivot]\n",
    "    \n",
    "    \n",
    "    return quicksort(left) + middle + quicksort(right)\n"
   ]
  },
  {
   "cell_type": "markdown",
   "id": "9b5ac7f7-137b-4ec9-b2d5-967e4fd6e222",
   "metadata": {},
   "source": [
    "Answer:\n",
    "T(n) = 2 * T(n-1) with T(1) = O(1) gives T(n) = O(2^n)."
   ]
  },
  {
   "cell_type": "code",
   "execution_count": null,
   "id": "95127614-10e3-4948-92eb-cd304b2808c0",
   "metadata": {},
   "outputs": [],
   "source": []
  },
  {
   "cell_type": "code",
   "execution_count": null,
   "id": "e3cebf5d-2fb4-47c5-af39-518d73cd5576",
   "metadata": {},
   "outputs": [],
   "source": []
  },
  {
   "cell_type": "code",
   "execution_count": 6,
   "id": "fd56a42c-fc97-441e-a8a4-d62dfd895c0c",
   "metadata": {},
   "outputs": [],
   "source": [
    "#Problem 2 :\n",
    "def calculate_matrix_sum(matrix):\n",
    "    \n",
    "    rows, cols = len(matrix), len(matrix[0])\n",
    "    \n",
    "    \n",
    "    total_sum = 0\n",
    "    \n",
    "    \n",
    "    for i in range(rows):\n",
    "        for j in range(cols):\n",
    "            total_sum += matrix[i][j]\n",
    "    \n",
    "    \n",
    "    return total_sum\n"
   ]
  },
  {
   "cell_type": "markdown",
   "id": "bd8fd482-5c78-413e-9df2-e2d729553e26",
   "metadata": {},
   "source": [
    "Answer:\n",
    "\n",
    "O(rows * cols)"
   ]
  },
  {
   "cell_type": "code",
   "execution_count": null,
   "id": "9ac0ca04-624c-41d6-bd52-ee4d57526a01",
   "metadata": {},
   "outputs": [],
   "source": []
  },
  {
   "cell_type": "code",
   "execution_count": null,
   "id": "7dbfa71d-30c3-40b5-ad36-f1b8d512e91c",
   "metadata": {},
   "outputs": [],
   "source": []
  },
  {
   "cell_type": "code",
   "execution_count": 7,
   "id": "f4e3f038-3b61-44a9-bf04-909c5645f7f0",
   "metadata": {},
   "outputs": [],
   "source": [
    "#Problem 3 :\n",
    "def calculate_array_sum(arr):\n",
    "    \n",
    "    result_sum = 0\n",
    "    \n",
    "    \n",
    "    for element in arr:\n",
    "        result_sum += element\n",
    "    \n",
    "    \n",
    "    return result_sum\n"
   ]
  },
  {
   "cell_type": "markdown",
   "id": "594e3de3-7a96-4eac-b319-c53f12e848ef",
   "metadata": {},
   "source": [
    "Answer:\n",
    "    \n",
    "    O(n)"
   ]
  },
  {
   "cell_type": "code",
   "execution_count": null,
   "id": "fbf93b2b-094b-4b45-bed0-9303b1946337",
   "metadata": {},
   "outputs": [],
   "source": []
  },
  {
   "cell_type": "code",
   "execution_count": null,
   "id": "04d53c70-d52d-4300-9f3a-ea568069a711",
   "metadata": {},
   "outputs": [],
   "source": []
  },
  {
   "cell_type": "code",
   "execution_count": 8,
   "id": "7014e53b-e2f1-4f78-8abe-6cc7c4352398",
   "metadata": {},
   "outputs": [],
   "source": [
    "#Problem 4 :\n",
    "def find_longest_increasing_subsequence(nums):\n",
    "    \n",
    "    n = len(nums)\n",
    "    \n",
    "    \n",
    "    lis = [1] * n\n",
    "    \n",
    "    \n",
    "    for i in range(1, n):\n",
    "        for j in range(0, i):\n",
    "            \n",
    "            if nums[i] > nums[j] and lis[i] < lis[j] + 1:\n",
    "                lis[i] = lis[j] + 1\n",
    "    \n",
    "    \n",
    "    return max(lis)\n"
   ]
  },
  {
   "cell_type": "code",
   "execution_count": null,
   "id": "27395cf2-608c-4166-a4d9-028559db0598",
   "metadata": {},
   "outputs": [],
   "source": []
  },
  {
   "cell_type": "markdown",
   "id": "fc02af43-5c7d-46a0-8642-33b4a9f9b2d4",
   "metadata": {},
   "source": [
    "O(1)+O(2)+O(3)+…+O(n−1)=O( \n",
    "2\n",
    "n⋅(n−1)\n",
    "​\n",
    " )=O(n \n",
    "2\n",
    " )"
   ]
  },
  {
   "cell_type": "code",
   "execution_count": null,
   "id": "58cc7186-7df6-4895-ab04-fedc0879c5a6",
   "metadata": {},
   "outputs": [],
   "source": []
  },
  {
   "cell_type": "raw",
   "id": "4bdcfb93-b986-4959-b52a-31b38fcb9f9b",
   "metadata": {},
   "source": []
  },
  {
   "cell_type": "code",
   "execution_count": 9,
   "id": "b4744e06-86bf-4193-a79a-ff7ae7efe31b",
   "metadata": {},
   "outputs": [],
   "source": [
    "#Problem 5 :\n",
    "\n",
    "def calculate_mysterious_sum(arr):\n",
    "    \n",
    "    n = len(arr)\n",
    "    \n",
    "    \n",
    "    mysterious_sum = 0\n",
    "    \n",
    "    \n",
    "    for i in range(n):\n",
    "        for j in range(i, n):\n",
    "            mysterious_sum += arr[i] * arr[j]\n",
    "    \n",
    "    \n",
    "    return mysterious_sum\n",
    "\n"
   ]
  },
  {
   "cell_type": "markdown",
   "id": "b15eba37-1525-463a-92c6-302897a985b6",
   "metadata": {},
   "source": [
    "O(n \n",
    "2\n",
    " )"
   ]
  },
  {
   "cell_type": "code",
   "execution_count": 4,
   "id": "d3b10c3d-a742-457e-89a1-bcbd1bf980e6",
   "metadata": {},
   "outputs": [],
   "source": []
  },
  {
   "cell_type": "code",
   "execution_count": null,
   "id": "3638d517-d92b-4863-933b-664db09cb386",
   "metadata": {},
   "outputs": [],
   "source": []
  },
  {
   "cell_type": "markdown",
   "id": "c29b963d-54eb-4bae-83a3-a25dd3d2a13b",
   "metadata": {},
   "source": [
    "Solve the following problems on recursion"
   ]
  },
  {
   "cell_type": "raw",
   "id": "823f8b38-0ff5-4cfc-9236-33c0cdc5aa87",
   "metadata": {},
   "source": [
    "Problem 6 : Sum of Digits\n",
    "Write a recursive function to calculate the sum of digits of a given positive integer.\n",
    "sum_of_digits(123) -> 6"
   ]
  },
  {
   "cell_type": "code",
   "execution_count": 10,
   "id": "3f53931d-ad35-4be2-9d66-a397a4e57b3e",
   "metadata": {},
   "outputs": [],
   "source": [
    "def sum_of_digits(n):\n",
    "    \n",
    "    if n < 10:\n",
    "        return n\n",
    "    \n",
    "    \n",
    "    return n % 10 + sum_of_digits(n // 10)\n"
   ]
  },
  {
   "cell_type": "code",
   "execution_count": 11,
   "id": "dcd5b166-1970-4f0c-b749-c3eb7db5e2c0",
   "metadata": {},
   "outputs": [],
   "source": [
    "# Example:\n",
    "result = sum_of_digits(123)"
   ]
  },
  {
   "cell_type": "code",
   "execution_count": 12,
   "id": "031fe198-9706-47eb-b3b3-8162ad28aa8d",
   "metadata": {},
   "outputs": [
    {
     "name": "stdout",
     "output_type": "stream",
     "text": [
      "6\n"
     ]
    }
   ],
   "source": [
    "print(result)"
   ]
  },
  {
   "cell_type": "code",
   "execution_count": null,
   "id": "4ef44965-bec3-4ac6-997d-1dd8d856bba2",
   "metadata": {},
   "outputs": [],
   "source": []
  },
  {
   "cell_type": "code",
   "execution_count": null,
   "id": "dca5cac6-f90c-4656-99e2-634537274067",
   "metadata": {},
   "outputs": [],
   "source": []
  },
  {
   "cell_type": "raw",
   "id": "d6bd64e6-ba7f-4d78-97e3-bd2e5c819873",
   "metadata": {},
   "source": [
    "Problem 7: Fibonacci Series\n",
    "Write a recursive function to generate the first n numbers of the Fibonacci series.\n",
    "fibonacci_series(6) -> [0, 1, 1, 2, 3, 5]"
   ]
  },
  {
   "cell_type": "code",
   "execution_count": 23,
   "id": "cc5dbe84-0018-4536-ad42-f20a9766e886",
   "metadata": {},
   "outputs": [],
   "source": [
    "def fibonacci_series(n, series=[0, 1]):\n",
    "    \n",
    "    if n == 0:\n",
    "        return []\n",
    "    \n",
    "    \n",
    "    if n == 1:\n",
    "        return series[:1]\n",
    "    \n",
    "    \n",
    "    series.append(series[-1] + series[-2])\n",
    "    return fibonacci_series(n - 1, series)\n"
   ]
  },
  {
   "cell_type": "code",
   "execution_count": 24,
   "id": "0c21b5fd-ae57-4adf-b32c-d300e9b58603",
   "metadata": {},
   "outputs": [],
   "source": [
    "# Example:\n",
    "result = fibonacci_series(6)"
   ]
  },
  {
   "cell_type": "code",
   "execution_count": 25,
   "id": "c7a43d94-cf7e-46c8-9df6-5edae2d68271",
   "metadata": {},
   "outputs": [
    {
     "name": "stdout",
     "output_type": "stream",
     "text": [
      "[0]\n"
     ]
    }
   ],
   "source": [
    "print(result)"
   ]
  },
  {
   "cell_type": "code",
   "execution_count": null,
   "id": "7dae2f25-7137-47f6-a9f2-22ae82a93b9f",
   "metadata": {},
   "outputs": [],
   "source": []
  },
  {
   "cell_type": "code",
   "execution_count": null,
   "id": "d15ca2fb-ea72-4227-b6ed-e4bbd6d87ab4",
   "metadata": {},
   "outputs": [],
   "source": []
  },
  {
   "cell_type": "raw",
   "id": "2cad58b3-ed8a-4672-992e-3140c60a08bd",
   "metadata": {},
   "source": [
    "Problem 8 : Subset Sum\n",
    "Given a set of positive integers and a target sum, write a recursive function to determine if there exists a subset\n",
    "of the integers that adds up to the target sum.\n",
    "subset_sum([3, 34, 4, 12, 5, 2], 9) -> True"
   ]
  },
  {
   "cell_type": "code",
   "execution_count": 29,
   "id": "0213dea8-06a2-4b5a-9be9-cd6c1ced8e06",
   "metadata": {},
   "outputs": [],
   "source": [
    "def subset_sum(nums, target_sum, index=None):\n",
    "    \n",
    "    if index is None:\n",
    "        index = len(nums) - 1\n",
    "    \n",
    "    \n",
    "    if target_sum == 0:\n",
    "        return True\n",
    "    if index < 0 or target_sum < 0:\n",
    "        return False\n",
    "    \n",
    "    \n",
    "    include_current = subset_sum(nums, target_sum - nums[index], index - 1)\n",
    "    exclude_current = subset_sum(nums, target_sum, index - 1)\n",
    "    \n",
    "    \n",
    "    return include_current or exclude_current\n"
   ]
  },
  {
   "cell_type": "code",
   "execution_count": 31,
   "id": "fba817e8-ff1b-4833-b4b9-eb6bf9f01a11",
   "metadata": {},
   "outputs": [],
   "source": [
    "# Example:\n",
    "nums = [3, 34, 4, 12, 5, 2]\n",
    "target_sum = 9\n",
    "result = subset_sum(nums, target_sum)"
   ]
  },
  {
   "cell_type": "code",
   "execution_count": 33,
   "id": "ba775aac-6139-4a20-9240-57ec819ff4a2",
   "metadata": {},
   "outputs": [
    {
     "name": "stdout",
     "output_type": "stream",
     "text": [
      "True\n"
     ]
    }
   ],
   "source": [
    "print(result)"
   ]
  },
  {
   "cell_type": "code",
   "execution_count": null,
   "id": "4900c2e9-110e-43d0-b907-db0b98a25fde",
   "metadata": {},
   "outputs": [],
   "source": []
  },
  {
   "cell_type": "code",
   "execution_count": null,
   "id": "60223453-0ee2-4921-8ad1-ad65ce090f8c",
   "metadata": {},
   "outputs": [],
   "source": []
  },
  {
   "cell_type": "raw",
   "id": "5e41ad46-8d24-4c47-a79a-3a7efbf6a909",
   "metadata": {},
   "source": [
    "Problem 9: Word Break\n",
    "Given a non-empty string and a dictionary of words, write a recursive function to determine if the string can be\n",
    "segmented into a space-separated sequence of dictionary words.\n",
    "word_break( leetcode , [ leet , code ]) -> True"
   ]
  },
  {
   "cell_type": "code",
   "execution_count": 39,
   "id": "f97106f5-8d54-4de6-b656-cd4269c0dce2",
   "metadata": {},
   "outputs": [],
   "source": [
    "def word_break(s, word_dict):\n",
    "    \n",
    "    if not s:\n",
    "        return True\n",
    "    \n",
    "    \n",
    "    for word in word_dict:\n",
    "        \n",
    "        if s.startswith(word):\n",
    "            \n",
    "            if word_break(s[len(word):], word_dict):\n",
    "                return True\n",
    "    \n",
    "    \n",
    "    return False"
   ]
  },
  {
   "cell_type": "code",
   "execution_count": 40,
   "id": "e828a359-2399-4693-a1b0-0f5952b0fad0",
   "metadata": {},
   "outputs": [],
   "source": [
    "# Example:\n",
    "input_string = \"leetcode\"\n",
    "dictionary = [\"leet\", \"code\"]\n",
    "result = word_break(input_string, dictionary)"
   ]
  },
  {
   "cell_type": "code",
   "execution_count": 41,
   "id": "b5d2ddf6-10c2-4e5b-9413-0dfeb8e179f8",
   "metadata": {},
   "outputs": [
    {
     "name": "stdout",
     "output_type": "stream",
     "text": [
      "True\n"
     ]
    }
   ],
   "source": [
    "print(result)"
   ]
  },
  {
   "cell_type": "code",
   "execution_count": null,
   "id": "483e0c7c-c143-462d-8c5c-554f8fcda3b5",
   "metadata": {},
   "outputs": [],
   "source": []
  },
  {
   "cell_type": "code",
   "execution_count": null,
   "id": "92e26dbb-597a-4af6-94bc-ffcf12e6575d",
   "metadata": {},
   "outputs": [],
   "source": []
  },
  {
   "cell_type": "raw",
   "id": "cf0cfcf6-29ac-4173-a84e-1bd26f68f1d6",
   "metadata": {},
   "source": [
    "Problem 10 : N-Queens\n",
    "Implement a recursive function to solve the N Queens problem, where you have to place N queens on an N×N\n",
    "chessboard in such a way that no two queens threaten each other.\n",
    "n_queens(4)\n",
    "[\n",
    "[\".Q..\",\n",
    "\"...Q\",\n",
    "\"Q...\",\n",
    "\"..Q.\"],\n",
    "[\"..Q.\",\n",
    "\"Q...\",\n",
    "\"...Q\",\n",
    "\".Q..\"]\n",
    "]"
   ]
  },
  {
   "cell_type": "code",
   "execution_count": 52,
   "id": "69afe461-fc3e-4a7a-b2df-a7db55e784c6",
   "metadata": {},
   "outputs": [],
   "source": [
    "def is_safe(board, row, col, n):\n",
    "    \n",
    "    for i in range(row):\n",
    "        if board[i][col] == 'Q':\n",
    "            return False\n",
    "    \n",
    "    \n",
    "    for i, j in zip(range(row, -1, -1), range(col, -1, -1)):\n",
    "        if board[i][j] == 'Q':\n",
    "            return False\n",
    "    \n",
    "    \n",
    "    for i, j in zip(range(row, -1, -1), range(col, n)):\n",
    "        if board[i][j] == 'Q':\n",
    "            return False\n",
    "    \n",
    "    return True\n",
    "\n",
    "def solve_n_queens_util(board, row, n, result):\n",
    "    if row == n:\n",
    "        result.append([\"\".join(row) for row in board])\n",
    "        return\n",
    "    \n",
    "    for col in range(n):\n",
    "        if is_safe(board, row, col, n):\n",
    "            board[row][col] = 'Q'\n",
    "            solve_n_queens_util(board, row + 1, n, result)\n",
    "            board[row][col] = '.'  \n",
    "\n",
    "def solve_n_queens(n):\n",
    "    \n",
    "    board = [['.' for _ in range(n)] for _ in range(n)]\n",
    "    \n",
    "    result = []\n",
    "    solve_n_queens_util(board, 0, n, result)\n",
    "    \n",
    "    return result\n",
    "\n",
    "\n"
   ]
  },
  {
   "cell_type": "code",
   "execution_count": 53,
   "id": "99fb6a58-4feb-4a17-a44b-98145bad65f2",
   "metadata": {},
   "outputs": [],
   "source": [
    "# Example:\n",
    "n = 4\n",
    "solutions = solve_n_queens(n)"
   ]
  },
  {
   "cell_type": "code",
   "execution_count": 54,
   "id": "8ffb81f7-7a99-4e26-88b2-8f4b5e7f2020",
   "metadata": {},
   "outputs": [
    {
     "name": "stdout",
     "output_type": "stream",
     "text": [
      "['.Q..', '...Q', 'Q...', '..Q.']\n",
      "['..Q.', 'Q...', '...Q', '.Q..']\n"
     ]
    }
   ],
   "source": [
    "for solution in solutions:\n",
    "    print(solution)"
   ]
  }
 ],
 "metadata": {
  "kernelspec": {
   "display_name": "Python 3 (ipykernel)",
   "language": "python",
   "name": "python3"
  },
  "language_info": {
   "codemirror_mode": {
    "name": "ipython",
    "version": 3
   },
   "file_extension": ".py",
   "mimetype": "text/x-python",
   "name": "python",
   "nbconvert_exporter": "python",
   "pygments_lexer": "ipython3",
   "version": "3.10.8"
  }
 },
 "nbformat": 4,
 "nbformat_minor": 5
}
